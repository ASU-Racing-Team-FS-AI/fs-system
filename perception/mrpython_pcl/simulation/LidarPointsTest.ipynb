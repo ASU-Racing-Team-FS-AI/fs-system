{
 "cells": [
  {
   "cell_type": "code",
   "execution_count": 1,
   "id": "4ba963eb",
   "metadata": {},
   "outputs": [],
   "source": [
    "import sys\n",
    "\n",
    "sys.path.append('../src/')\n",
    "\n",
    "import numpy as np\n",
    "import matplotlib.pyplot as plt\n",
    "%matplotlib inline\n",
    "\n",
    "from mrpython_pcl.LidarPipeline.ConeClassifier import ConeClassifier\n",
    "\n",
    "import utils"
   ]
  },
  {
   "attachments": {},
   "cell_type": "markdown",
   "id": "567937ff",
   "metadata": {},
   "source": [
    "## Lidar Settings"
   ]
  },
  {
   "cell_type": "code",
   "execution_count": 2,
   "id": "ad7065e3",
   "metadata": {},
   "outputs": [],
   "source": [
    "import yaml\n",
    "\n",
    "with open('lidar_datasheet.yml', 'r') as f:\n",
    "    data = yaml.safe_load(f)\n",
    "    \n",
    "LIDAR_VERTICAL_INCLINATION = 0\n",
    "LIDAR_ORIGIN = (0,0,0.4) # METERS\n",
    "LIDAR_VERTICAL_ANGLES = (np.array(data['LIDAR_VERTICAL_ANGLES'] ) + LIDAR_VERTICAL_INCLINATION).tolist()\n",
    "LIDAR_POSITION_ACCURACY = data['LIDAR_POSITION_ACCURACY']\n",
    "LIDAR_HORIZONTAL_FOV = data['LIDAR_HORIZONTAL_FOV']\n",
    "LIDAR_RATE = data['LIDAR_RATE']\n",
    "LIDAR_RATE_ACCURACY = data['LIDAR_RATE_ACCURACY']\n",
    "# Calculate horizontal angle offset according to RPM\n",
    "calculateHorizontalAzmuth = lambda rpm: rpm/60 * 360 * 55.269e-6 # degrees"
   ]
  },
  {
   "attachments": {},
   "cell_type": "markdown",
   "id": "5d6a11d8",
   "metadata": {},
   "source": [
    "## Cone Settings"
   ]
  },
  {
   "cell_type": "code",
   "execution_count": 3,
   "id": "a6a8ff7f",
   "metadata": {},
   "outputs": [],
   "source": [
    "N_SAMPLES = 10 # number of cone samples per distance to generate\n",
    "\n",
    "# CONE CONSTANTS\n",
    "CONE_HEIGHT = 0.33 # METERS\n",
    "CONE_RADIUS = 0.1 # METERS"
   ]
  },
  {
   "attachments": {},
   "cell_type": "markdown",
   "id": "486d34a2",
   "metadata": {},
   "source": [
    "## Simulate LiDAR Intersections"
   ]
  },
  {
   "cell_type": "code",
   "execution_count": 4,
   "id": "9ee1a468",
   "metadata": {},
   "outputs": [],
   "source": [
    "def simulateLidar(d):\n",
    "    # sample N_SAMPLES cones\n",
    "    classifier = ConeClassifier(CONE_RADIUS, CONE_HEIGHT, 1,1,1)\n",
    "    \n",
    "    cost_tracker = {'linLoss':[], 'l2Loss':[]}\n",
    "    \n",
    "    for i in range(N_SAMPLES):\n",
    "        cones = []\n",
    "        angle = np.random.uniform(low=0, high=LIDAR_HORIZONTAL_FOV)\n",
    "        cone = utils.getConeEquation(angle, d, CONE_HEIGHT, CONE_RADIUS)\n",
    "        cones.append(cone)\n",
    "        \n",
    "        # scan using the lidar\n",
    "        rotationAngle = np.rad2deg(np.arctan(CONE_RADIUS/d))\n",
    "        intersections = []\n",
    "        alpha = angle-rotationAngle\n",
    "        \n",
    "        for alpha in LIDAR_VERTICAL_ANGLES: # vertical angle\n",
    "            theta = angle-rotationAngle\n",
    "            while theta < angle+rotationAngle: # horizontal angle\n",
    "                # get lidar ray\n",
    "                ray = utils.getLineEquation(LIDAR_ORIGIN, alpha, theta)\n",
    "                # get intersection point\n",
    "                intersection = utils.computeIntersection(cone, ray)\n",
    "                \n",
    "                if intersection is not None:\n",
    "                    if intersection[2]>=0 and intersection[2]<=CONE_HEIGHT:\n",
    "                        #utils.visualizeLineAndCone(ray[:2],ray[3:5],cone[:2],CONE_RADIUS)\n",
    "                        #print(intersection)\n",
    "                        intersection = [np.random.normal(intersection[0], LIDAR_POSITION_ACCURACY), np.random.normal(intersection[1], LIDAR_POSITION_ACCURACY), intersection[2]]\n",
    "                        intersections.append(intersection)\n",
    "\n",
    "                rpm=np.random.uniform(low=LIDAR_RATE-LIDAR_RATE_ACCURACY, high=LIDAR_RATE+LIDAR_RATE_ACCURACY)\n",
    "                theta+=calculateHorizontalAzmuth(rpm)\n",
    "                \n",
    "        # use the points to fit the X_c and y_c\n",
    "        intersections = np.array(intersections)\n",
    "        \n",
    "        (_, linLoss, l2Loss), _ = classifier.isCone(intersections, returnLosses=True)\n",
    "        cost_tracker['linLoss'].append(linLoss)\n",
    "        \n",
    "        # compute the sum of cost2\n",
    "        cost_tracker['l2Loss'].append(l2Loss)\n",
    "        \n",
    "                    \n",
    "    # compute the mean and std of sigma_cost1 and sigma_cost2\n",
    "    thres1_mean = np.mean(cost_tracker['linLoss'])\n",
    "    thres1_std = np.std(cost_tracker['linLoss'])\n",
    "    thres2_mean = np.mean(cost_tracker['l2Loss'])\n",
    "    thres2_std = np.std(cost_tracker['l2Loss'])\n",
    "    \n",
    "    return thres1_mean, thres1_std, thres2_mean, thres2_std, cost_tracker"
   ]
  },
  {
   "cell_type": "code",
   "execution_count": 5,
   "id": "861707b9",
   "metadata": {},
   "outputs": [
    {
     "data": {
      "text/plain": [
       "(4.149057574872338e-06,\n",
       " 1.637034266724746e-06,\n",
       " 0.018345556638925252,\n",
       " 0.008715720893321278)"
      ]
     },
     "execution_count": 5,
     "metadata": {},
     "output_type": "execute_result"
    }
   ],
   "source": [
    "thres1_mean, thres1_std, thres2_mean, thres2_std,_ = simulateLidar(1)\n",
    "thres1_mean, thres1_std, thres2_mean, thres2_std"
   ]
  },
  {
   "cell_type": "code",
   "execution_count": 6,
   "id": "ae1376fc",
   "metadata": {
    "scrolled": false
   },
   "outputs": [
    {
     "data": {
      "image/png": "[encoded data removed]",
      "text/plain": [
       "<Figure size 432x288 with 1 Axes>"
      ]
     },
     "metadata": {
      "needs_background": "light"
     },
     "output_type": "display_data"
    },
    {
     "data": {
      "image/png": "[encoded data removed]",
      "text/plain": [
       "<Figure size 432x288 with 1 Axes>"
      ]
     },
     "metadata": {
      "needs_background": "light"
     },
     "output_type": "display_data"
    },
    {
     "data": {
      "image/png": "[encoded data removed]",
      "text/plain": [
       "<Figure size 432x288 with 1 Axes>"
      ]
     },
     "metadata": {
      "needs_background": "light"
     },
     "output_type": "display_data"
    },
    {
     "data": {
      "image/png": "[encoded data removed]",
      "text/plain": [
       "<Figure size 432x288 with 1 Axes>"
      ]
     },
     "metadata": {
      "needs_background": "light"
     },
     "output_type": "display_data"
    }
   ],
   "source": [
    "# simulate on many distances\n",
    "t1MUList = []\n",
    "t1STDList = []\n",
    "t2MUList = []\n",
    "t2STDList = []\n",
    "\n",
    "for i in range(1,25+1):\n",
    "    t1MU, t1STD, t1MU, t2STD,_ = simulateLidar(i)\n",
    "    t1MUList.append(t1MU)\n",
    "    t1STDList.append(t1STD)\n",
    "    t2MUList.append(t1MU)\n",
    "    t2STDList.append(t2STD)\n",
    "\n",
    "distance_list = np.arange(1,25+1)\n",
    "plt.plot(distance_list, t1MUList)\n",
    "plt.title('Distance vs Threshold1 mu')\n",
    "plt.show()\n",
    "plt.plot(distance_list, t1STDList)\n",
    "plt.title('Distance vs Threshold1 std')\n",
    "plt.show()\n",
    "plt.plot(distance_list, t2MUList)\n",
    "plt.title('Distance vs Threshold2 mu')\n",
    "plt.show()\n",
    "plt.plot(distance_list, t2STDList)\n",
    "plt.title('Distance vs Threshold2 std')\n",
    "plt.show()"
   ]
  },
  {
   "cell_type": "code",
   "execution_count": null,
   "id": "5e91984f",
   "metadata": {},
   "outputs": [],
   "source": []
  }
 ],
 "metadata": {
  "kernelspec": {
   "display_name": "Python 3",
   "language": "python",
   "name": "python3"
  },
  "language_info": {
   "codemirror_mode": {
    "name": "ipython",
    "version": 3
   },
   "file_extension": ".py",
   "mimetype": "text/x-python",
   "name": "python",
   "nbconvert_exporter": "python",
   "pygments_lexer": "ipython3",
   "version": "3.8.8"
  }
 },
 "nbformat": 4,
 "nbformat_minor": 5
}
