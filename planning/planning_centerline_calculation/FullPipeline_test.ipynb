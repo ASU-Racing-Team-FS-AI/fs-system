{
 "cells": [
  {
   "cell_type": "code",
   "execution_count": 1,
   "metadata": {},
   "outputs": [],
   "source": [
    "from full_pipeline.full_pipeline import PathPlanner\n",
    "from utils.math_utils import angleFrom2dVector, unit2dVectorFromAngle, rotate\n",
    "from utils.cone_types import ConeTypes\n",
    "\n",
    "import numpy as np"
   ]
  },
  {
   "cell_type": "markdown",
   "metadata": {},
   "source": [
    "Get part of track"
   ]
  },
  {
   "cell_type": "code",
   "execution_count": 2,
   "metadata": {},
   "outputs": [],
   "source": [
    "phi_inner = np.arange(0, np.pi / 2, np.pi / 15)\n",
    "phi_outer = np.arange(0, np.pi / 2, np.pi / 20)\n",
    "\n",
    "points_inner = unit2dVectorFromAngle(phi_inner) * 9\n",
    "points_outer = unit2dVectorFromAngle(phi_outer) * 12\n",
    "\n",
    "center = np.mean((points_inner[:2] + points_outer[:2]) / 2, axis=0)\n",
    "points_inner -= center\n",
    "points_outer -= center\n",
    "\n",
    "rotated_points_inner = rotate(points_inner, -np.pi / 2)\n",
    "rotated_points_outer = rotate(points_outer, -np.pi / 2)\n",
    "cones_left_raw = rotated_points_inner\n",
    "cones_right_raw = rotated_points_outer\n",
    "\n",
    "\n",
    "rng = np.random.default_rng(0)\n",
    "rng.shuffle(cones_left_raw)\n",
    "rng.shuffle(cones_right_raw)\n",
    "\n",
    "\n",
    "car_position = np.array([0.0, 0.0])\n",
    "car_direction = np.array([1.0, 0.0])\n",
    "\n",
    "car_direction_angle = angleFrom2dVector(car_direction)"
   ]
  },
  {
   "cell_type": "code",
   "execution_count": 3,
   "metadata": {},
   "outputs": [],
   "source": [
    "mask_is_left = np.ones(len(cones_left_raw), dtype=bool)\n",
    "mask_is_right = np.ones(len(cones_right_raw), dtype=bool)\n",
    "\n",
    "# for demonstration purposes, we will only keep the color of the first 4 cones\n",
    "# on each side\n",
    "mask_is_left[np.argsort(np.linalg.norm(cones_left_raw, axis=1))[4:]] = False\n",
    "mask_is_right[np.argsort(np.linalg.norm(cones_right_raw, axis=1))[4:]] = False\n",
    "\n",
    "cones_left = cones_left_raw[mask_is_left]\n",
    "cones_right = cones_right_raw[mask_is_right]\n",
    "cones_unknown = np.row_stack(\n",
    "    [cones_left_raw[~mask_is_left], cones_right_raw[~mask_is_right]]\n",
    ")"
   ]
  },
  {
   "cell_type": "code",
   "execution_count": 4,
   "metadata": {},
   "outputs": [
    {
     "name": "stderr",
     "output_type": "stream",
     "text": [
      "/home/mohd_yasser1/.local/lib/python3.10/site-packages/matplotlib/projections/__init__.py:63: UserWarning: Unable to import Axes3D. This may be due to multiple versions of Matplotlib being installed (e.g. as a system package and as a pip package). As a result, the 3D projection is not available.\n",
      "  warnings.warn(\"Unable to import Axes3D. This may be due to multiple versions of \"\n"
     ]
    },
    {
     "data": {
      "text/plain": [
       "[<matplotlib.lines.Line2D at 0x7f481245a680>]"
      ]
     },
     "execution_count": 4,
     "metadata": {},
     "output_type": "execute_result"
    },
    {
     "data": {
      "image/png": "[encoded data removed]",
      "text/plain": [
       "<Figure size 640x480 with 1 Axes>"
      ]
     },
     "metadata": {},
     "output_type": "display_data"
    }
   ],
   "source": [
    "import matplotlib.pyplot as plt\n",
    "\n",
    "blue_color = \"#7CB9E8\"\n",
    "yellow_color = \"gold\"\n",
    "\n",
    "plt.scatter(cones_left[:, 0], cones_left[:, 1], c=blue_color, label=\"left\")\n",
    "plt.scatter(cones_right[:, 0], cones_right[:, 1], c=yellow_color, label=\"right\")\n",
    "plt.scatter(cones_unknown[:, 0], cones_unknown[:, 1], c=\"k\", label=\"unknown\")\n",
    "plt.legend()\n",
    "plt.plot(\n",
    "    [car_position[0], car_position[0] + car_direction[0]],\n",
    "    [car_position[1], car_position[1] + car_direction[1]],\n",
    "    c=\"k\",\n",
    ")"
   ]
  },
  {
   "cell_type": "code",
   "execution_count": 5,
   "metadata": {},
   "outputs": [
    {
     "name": "stdout",
     "output_type": "stream",
     "text": [
      "ConeTypes.UNKNOWN = 0\n",
      "ConeTypes.RIGHT = 1\n",
      "ConeTypes.LEFT = 2\n",
      "ConeTypes.START_FINISH_AREA = 3\n",
      "ConeTypes.START_FINISH_LINE = 4\n"
     ]
    }
   ],
   "source": [
    "for i, c in enumerate(ConeTypes):\n",
    "    print(c, f\"= {i}\")\n",
    "\n",
    "cones_by_type = [np.zeros((0, 2)) for _ in range(5)]\n",
    "cones_by_type[ConeTypes.LEFT] = cones_left\n",
    "cones_by_type[ConeTypes.RIGHT] = cones_right\n",
    "cones_by_type[ConeTypes.UNKNOWN] = cones_unknown"
   ]
  },
  {
   "cell_type": "code",
   "execution_count": 6,
   "metadata": {},
   "outputs": [
    {
     "name": "stdout",
     "output_type": "stream",
     "text": [
      "[13 28 27]\n",
      "[23  0  5]\n",
      "[39]\n",
      "[0]\n"
     ]
    },
    {
     "data": {
      "text/plain": [
       "array([[ 0.00000000e+00, -4.44089210e-16],\n",
       "       [ 9.37104699e-01,  8.61028766e-02],\n",
       "       [ 1.85259988e+00,  3.05893822e-01],\n",
       "       [ 2.73487653e+00,  6.31398621e-01],\n",
       "       [ 3.61715319e+00,  9.56903419e-01],\n",
       "       [ 4.42589682e+00,  1.43806105e+00],\n",
       "       [ 5.23464045e+00,  1.91921868e+00],\n",
       "       [ 5.94216408e+00,  2.53969370e+00],\n",
       "       [ 6.64968770e+00,  3.16016871e+00],\n",
       "       [ 7.23189964e+00,  3.89867716e+00],\n",
       "       [ 7.81411158e+00,  4.63718561e+00],\n",
       "       [ 8.30604876e+00,  5.43995412e+00],\n",
       "       [ 8.67751874e+00,  6.30458640e+00],\n",
       "       [ 9.04898872e+00,  7.16921868e+00],\n",
       "       [ 9.00109683e+00,  7.88373665e+00],\n",
       "       [ 8.90752402e+00,  8.59371812e+00],\n",
       "       [ 8.76865479e+00,  9.29624563e+00],\n",
       "       [ 8.58505980e+00,  9.98843233e+00],\n",
       "       [ 8.35749346e+00,  1.06674339e+01],\n",
       "       [ 8.08689091e+00,  1.13304602e+01],\n",
       "       [ 7.77436409e+00,  1.19747866e+01],\n",
       "       [ 7.42119727e+00,  1.25977655e+01],\n",
       "       [ 7.02884166e+00,  1.31968370e+01]])"
      ]
     },
     "execution_count": 6,
     "metadata": {},
     "output_type": "execute_result"
    }
   ],
   "source": [
    "pathPlanner = PathPlanner()\n",
    "\n",
    "path = pathPlanner.calculatePathInGlobalFrame(\n",
    "    cones=cones_by_type,\n",
    "    vehiclePosition=car_position,\n",
    "    vehicleDirection=car_direction_angle,\n",
    ")\n",
    "\n",
    "\n",
    "path"
   ]
  },
  {
   "cell_type": "code",
   "execution_count": 13,
   "metadata": {},
   "outputs": [
    {
     "data": {
      "text/plain": [
       "(-1.5297177038177339,\n",
       " 11.507768392038084,\n",
       " -2.325249870306754,\n",
       " 13.935983992044296)"
      ]
     },
     "execution_count": 13,
     "metadata": {},
     "output_type": "execute_result"
    },
    {
     "data": {
      "image/png": "[encoded data removed]",
      "text/plain": [
       "<Figure size 640x480 with 1 Axes>"
      ]
     },
     "metadata": {},
     "output_type": "display_data"
    }
   ],
   "source": [
    "\n",
    "blue_color = \"#7CB9E8\"\n",
    "yellow_color = \"gold\"\n",
    "\n",
    "plt.scatter(cones_left[:, 0], cones_left[:, 1], c=blue_color, label=\"left\")\n",
    "plt.scatter(cones_right[:, 0], cones_right[:, 1], c=yellow_color, label=\"right\")\n",
    "plt.scatter(cones_unknown[:, 0], cones_unknown[:, 1], c=\"k\", label=\"unknown\")\n",
    "plt.plot(\n",
    "    [car_position[0], car_position[0] + car_direction[0]],\n",
    "    [car_position[1], car_position[1] + car_direction[1]],\n",
    "    c=\"k\",\n",
    ")\n",
    "plt.scatter(path[:,0], path[:,1], c='gray', label=\"path\")\n",
    "plt.legend()\n",
    "plt.title(\"Path Calculations\")\n",
    "plt.axis(\"equal\")"
   ]
  },
  {
   "cell_type": "code",
   "execution_count": null,
   "metadata": {},
   "outputs": [],
   "source": []
  }
 ],
 "metadata": {
  "kernelspec": {
   "display_name": "rt",
   "language": "python",
   "name": "python3"
  },
  "language_info": {
   "codemirror_mode": {
    "name": "ipython",
    "version": 3
   },
   "file_extension": ".py",
   "mimetype": "text/x-python",
   "name": "python",
   "nbconvert_exporter": "python",
   "pygments_lexer": "ipython3",
   "version": "3.10.12"
  }
 },
 "nbformat": 4,
 "nbformat_minor": 2
}
