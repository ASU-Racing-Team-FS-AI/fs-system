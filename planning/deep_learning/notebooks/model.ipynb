{
 "cells": [
  {
   "cell_type": "code",
   "execution_count": 64,
   "metadata": {},
   "outputs": [],
   "source": [
    "import torch\n",
    "import torch.nn as nn\n",
    "from typing import Optional\n",
    "import matplotlib.pyplot as plt"
   ]
  },
  {
   "cell_type": "code",
   "execution_count": 65,
   "metadata": {},
   "outputs": [],
   "source": [
    "class MyPlannerTransformer(nn.Module):\n",
    "    def __init__(self, d_model=16,nhead = 2,num_encoder_layers = 2, num_decoder_layers=2, dropout = 0.1, dim_feedforward = 2048) -> None:\n",
    "        super().__init__()\n",
    "        self.transformer = nn.Transformer(\n",
    "            d_model,\n",
    "            nhead,\n",
    "            num_encoder_layers,\n",
    "            num_decoder_layers,\n",
    "            dim_feedforward,\n",
    "            dropout,\n",
    "            batch_first=True\n",
    "        )\n",
    "        # map tgt to have the same number of features as src\n",
    "        self.input = nn.Linear(5, d_model)\n",
    "        self.tgt = nn.Linear(2, d_model)\n",
    "        self.output = nn.Linear(d_model, 2)\n",
    "\n",
    "    def forward(\n",
    "        self,\n",
    "        src: torch.tensor,\n",
    "        tgt: torch.tensor,\n",
    "        src_mask: Optional[torch.tensor]=None,\n",
    "        tgt_mask: Optional[torch.tensor]=None,\n",
    "        memory_mask: Optional[torch.tensor]=None,\n",
    "        src_key_padding_mask: Optional[torch.tensor]=None,\n",
    "        tgt_key_padding_mask: Optional[torch.tensor]=None,\n",
    "        memory_key_padding_mask: Optional[torch.tensor]=None,\n",
    "        max_len: Optional[int]=None,\n",
    "        \n",
    "    )->torch.tensor:\n",
    "        src = self.input(src)\n",
    "        tgt = self.tgt(tgt)\n",
    "        out = self.transformer(src, tgt)\n",
    "        out = self.output(out)\n",
    "        return out\n",
    "    \n",
    "    def predictV1(self, src: torch.tensor, outputSequence: Optional[int] = None) -> torch.tensor:\n",
    "        \n",
    "        \"\"\"\n",
    "        predict v1 is a function that uses the transformer model to predict the next waypoints\n",
    "        it works by the auto-regressive property of the transformer model\n",
    "        it predicts one waypoint at a time and uses the predicted waypoint to predict the next waypoint\n",
    "\n",
    "        Args:\n",
    "            src (torch.tensor):\n",
    "            \n",
    "            takes a tensor of shape (sequence, 5)\n",
    "            in our case sequence is 10 and 5 is the number of features\n",
    "            \n",
    "            outputSequence (Optional[int], optional):\n",
    "            \n",
    "            number of waypoints to predict. Defaults to None.\n",
    "            if None, it will predict 4 waypoints\n",
    "            \n",
    "\n",
    "        Returns:\n",
    "            torch.tensor:\n",
    "            \n",
    "            tgt tensor of shape (outputSequence, 2)\n",
    "            outputSequence is the number of waypoints to predict\n",
    "            2 is the number of features\n",
    "            \n",
    "        \"\"\"  \n",
    "              \n",
    "        self.eval()\n",
    "        outputSequence = 4 if outputSequence is None else outputSequence\n",
    "        tgt = torch.zeros(outputSequence, 2)\n",
    "\n",
    "        with torch.no_grad():\n",
    "             for i in range(outputSequence):\n",
    "                    prediction = self.forward(src, tgt[:i+1])\n",
    "                    tgt[i] = prediction[-1]    \n",
    "        return tgt\n",
    "    \n",
    "    def predictV2(self, src: torch.tensor, outputSequence: Optional[int] = None) -> torch.tensor:\n",
    "        \n",
    "        \"\"\"\n",
    "        predict v2 is a function that uses the transformer model to predict the next waypoints\n",
    "        it works by passing the entire sequence to the transformer model and predicting the entire sequence at once\n",
    "\n",
    "        Args:\n",
    "            src (torch.tensor):\n",
    "            \n",
    "            takes a tensor of shape (sequence, 5)\n",
    "            in our case sequence is 10 and 5 is the number of features\n",
    "            \n",
    "            outputSequence (Optional[int], optional):\n",
    "            \n",
    "            number of waypoints to predict. Defaults to None.\n",
    "            if None, it will predict 4 waypoints\n",
    "\n",
    "        Returns:\n",
    "            torch.tensor:\n",
    "            \n",
    "            tgt tensor of shape (outputSequence, 2)\n",
    "            outputSequence is the number of waypoints to predict\n",
    "            2 is the number of features\n",
    "        \"\"\"        \n",
    "        \n",
    "        self.eval()\n",
    "        outputSequence = 4 if outputSequence is None else outputSequence\n",
    "        tgt = torch.zeros(outputSequence, 2)\n",
    "        prediction = self.forward(src, tgt)\n",
    "        \n",
    "        return prediction\n",
    "    \n",
    "    def trainModel(self,model, trainLoader, validLoader,epochs = 10):\n",
    "        optimizer = torch.optim.Adam(model.parameters(), lr=0.001)\n",
    "        criterion = nn.MSELoss()\n",
    "        LOSS = []\n",
    "        VAL_LOSS = []\n",
    "        for epoch in range(epochs):\n",
    "            COST = 0\n",
    "            VAL_COST = 0\n",
    "            for src, tgt in trainLoader:\n",
    "                optimizer.zero_grad()\n",
    "                prediction = self.forward(src, tgt)\n",
    "                loss = criterion(prediction, tgt)\n",
    "                loss.backward()\n",
    "                COST += loss.item()\n",
    "                optimizer.step()\n",
    "            avgLoss = COST / len(trainLoader)\n",
    "            LOSS.append(avgLoss)\n",
    "            with torch.no_grad():\n",
    "                for src, tgt in validLoader:\n",
    "                    prediction = self.forward(src, tgt)\n",
    "                    loss = criterion(prediction, tgt)\n",
    "                    VAL_COST += loss.item()\n",
    "                    \n",
    "            avgValidLoss = VAL_COST / len(validLoader)\n",
    "            VAL_LOSS.append(avgValidLoss)\n",
    "            \n",
    "            print(f'Epoch: {epoch+1}/{epochs}\\nTraining Loss: {avgLoss}, Validation Loss: {avgValidLoss}')\n",
    "            print('-----------------------------')\n",
    "\n",
    "\n",
    "        return LOSS, VAL_LOSS\n",
    "    \n",
    "    "
   ]
  },
  {
   "cell_type": "code",
   "execution_count": 66,
   "metadata": {},
   "outputs": [],
   "source": [
    "def loadData(dir: str) -> torch.tensor: \n",
    "    data = torch.load(dir)\n",
    "    return data"
   ]
  },
  {
   "cell_type": "code",
   "execution_count": 67,
   "metadata": {},
   "outputs": [],
   "source": [
    "#batch_size = 10\n",
    "srcTrain = loadData('../inputs/tensors/train/src_train.pt')\n",
    "tgtTrain = loadData('../inputs/tensors/train/tgt_train.pt')\n",
    "srcValid = loadData('../inputs/tensors/valid/src_valid.pt')\n",
    "tgtValid = loadData('../inputs/tensors/valid/tgt_valid.pt')"
   ]
  },
  {
   "cell_type": "code",
   "execution_count": 68,
   "metadata": {},
   "outputs": [],
   "source": [
    "srcSeqLength = 10\n",
    "srcNumOfSequencesTrain = srcTrain.size(0) // srcSeqLength\n",
    "tgtSeqLength = 4\n",
    "tgtNumOfSequencesTrain = tgtTrain.size(0) // tgtSeqLength\n",
    "srcNumOfSequencesValid = srcValid.size(0) // srcSeqLength\n",
    "tgtNumOfSequencesValid = tgtValid.size(0) // tgtSeqLength"
   ]
  },
  {
   "cell_type": "code",
   "execution_count": 69,
   "metadata": {},
   "outputs": [],
   "source": [
    "# reshape the tensors\n",
    "srcTrain = srcTrain[:srcNumOfSequencesTrain * srcSeqLength, :].view(srcNumOfSequencesTrain, srcSeqLength, -1)\n",
    "tgtTrain = tgtTrain[:tgtNumOfSequencesTrain * tgtSeqLength, :].view(tgtNumOfSequencesTrain, tgtSeqLength, -1)\n",
    "srcValid = srcValid[:srcNumOfSequencesValid * srcSeqLength, :].view(srcNumOfSequencesValid, srcSeqLength, -1)\n",
    "tgtValid = tgtValid[:tgtNumOfSequencesValid * tgtSeqLength, :].view(tgtNumOfSequencesValid, tgtSeqLength, -1)"
   ]
  },
  {
   "cell_type": "code",
   "execution_count": 70,
   "metadata": {},
   "outputs": [],
   "source": [
    "# data loader\n",
    "from torch.utils.data import DataLoader\n",
    "trainData = list(zip(srcTrain, tgtTrain))\n",
    "validData = list(zip(srcValid, tgtValid))\n",
    "\n",
    "trainLoader = DataLoader(trainData, batch_size=100, shuffle=True)\n",
    "validLoader = DataLoader(validData, batch_size=100, shuffle=True)"
   ]
  },
  {
   "cell_type": "code",
   "execution_count": 71,
   "metadata": {},
   "outputs": [],
   "source": [
    "model = MyPlannerTransformer()\n",
    "#model.forward(src, tgt).shape"
   ]
  },
  {
   "cell_type": "code",
   "execution_count": 72,
   "metadata": {},
   "outputs": [
    {
     "name": "stdout",
     "output_type": "stream",
     "text": [
      "Epoch: 1/10\n",
      "Training Loss: 38.278621550968715, Validation Loss: 29.603907108306885\n",
      "-----------------------------\n",
      "Epoch: 2/10\n",
      "Training Loss: 21.19481772014073, Validation Loss: 15.395698547363281\n",
      "-----------------------------\n",
      "Epoch: 3/10\n",
      "Training Loss: 9.712122855867658, Validation Loss: 6.989126682281494\n",
      "-----------------------------\n",
      "Epoch: 4/10\n",
      "Training Loss: 4.185996045385088, Validation Loss: 2.932620942592621\n",
      "-----------------------------\n",
      "Epoch: 5/10\n",
      "Training Loss: 1.8943001747131347, Validation Loss: 1.493747353553772\n",
      "-----------------------------\n",
      "Epoch: 6/10\n",
      "Training Loss: 0.9504753398043769, Validation Loss: 0.7855380773544312\n",
      "-----------------------------\n",
      "Epoch: 7/10\n",
      "Training Loss: 0.5569704066429819, Validation Loss: 0.5188118144869804\n",
      "-----------------------------\n",
      "Epoch: 8/10\n",
      "Training Loss: 0.3579297135983195, Validation Loss: 0.347399964928627\n",
      "-----------------------------\n",
      "Epoch: 9/10\n",
      "Training Loss: 0.24860107888068472, Validation Loss: 0.27653248608112335\n",
      "-----------------------------\n",
      "Epoch: 10/10\n",
      "Training Loss: 0.2092405359659876, Validation Loss: 0.2276633307337761\n",
      "-----------------------------\n"
     ]
    }
   ],
   "source": [
    "train_loss, val_loss = model.trainModel(model, trainLoader, validLoader,epochs=10)"
   ]
  },
  {
   "cell_type": "code",
   "execution_count": 73,
   "metadata": {},
   "outputs": [],
   "source": [
    "def plotLoss(loss: list, type: str):\n",
    "    plt.plot(loss)\n",
    "    plt.xlabel('Epoch')\n",
    "    plt.ylabel('Loss')\n",
    "    plt.title(f'{type} Loss')\n",
    "    plt.show()"
   ]
  },
  {
   "cell_type": "code",
   "execution_count": 74,
   "metadata": {},
   "outputs": [
    {
     "data": {
      "image/png": "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",
      "text/plain": [
       "<Figure size 640x480 with 1 Axes>"
      ]
     },
     "metadata": {},
     "output_type": "display_data"
    },
    {
     "data": {
      "image/png": "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",
      "text/plain": [
       "<Figure size 640x480 with 1 Axes>"
      ]
     },
     "metadata": {},
     "output_type": "display_data"
    }
   ],
   "source": [
    "plotLoss(train_loss, 'Training')\n",
    "plotLoss(val_loss, 'Validation')"
   ]
  },
  {
   "cell_type": "code",
   "execution_count": 75,
   "metadata": {},
   "outputs": [
    {
     "data": {
      "text/plain": [
       "(torch.Size([10, 5]), torch.Size([4, 2]))"
      ]
     },
     "execution_count": 75,
     "metadata": {},
     "output_type": "execute_result"
    }
   ],
   "source": [
    "srcValid[0].shape, tgtValid[0].shape"
   ]
  },
  {
   "cell_type": "code",
   "execution_count": 76,
   "metadata": {},
   "outputs": [],
   "source": [
    "yhat2 = model(srcValid[0], tgtValid[0])"
   ]
  },
  {
   "cell_type": "code",
   "execution_count": 77,
   "metadata": {},
   "outputs": [
    {
     "data": {
      "text/plain": [
       "torch.Size([318, 10, 5])"
      ]
     },
     "execution_count": 77,
     "metadata": {},
     "output_type": "execute_result"
    }
   ],
   "source": [
    "srcValid.shape"
   ]
  },
  {
   "cell_type": "code",
   "execution_count": 78,
   "metadata": {},
   "outputs": [],
   "source": [
    "# # predict\n",
    "yhat = model.predictV1(srcValid[0])"
   ]
  },
  {
   "cell_type": "code",
   "execution_count": 79,
   "metadata": {},
   "outputs": [],
   "source": [
    "yhat2 = model.predictV2(srcValid[0])"
   ]
  },
  {
   "cell_type": "code",
   "execution_count": 80,
   "metadata": {},
   "outputs": [
    {
     "data": {
      "text/plain": [
       "(tensor([[-0.0330, -0.0508],\n",
       "         [-0.0331, -0.0528],\n",
       "         [-0.0331, -0.0535],\n",
       "         [-0.0331, -0.0539]]),\n",
       " tensor([[-0.0330, -0.0508],\n",
       "         [-0.0330, -0.0508],\n",
       "         [-0.0330, -0.0508],\n",
       "         [-0.0330, -0.0508]], grad_fn=<AddmmBackward0>),\n",
       " tensor([[-1.7303, -0.4162],\n",
       "         [-3.5138, -0.7657],\n",
       "         [-5.2972, -1.1151],\n",
       "         [-7.1366, -1.4104]]))"
      ]
     },
     "execution_count": 80,
     "metadata": {},
     "output_type": "execute_result"
    }
   ],
   "source": [
    "# compare between the two predictions\n",
    "yhat, yhat2, tgtValid[0]"
   ]
  },
  {
   "cell_type": "code",
   "execution_count": 81,
   "metadata": {},
   "outputs": [],
   "source": [
    "# yhat2.shape, yhat.shape"
   ]
  },
  {
   "cell_type": "code",
   "execution_count": 82,
   "metadata": {},
   "outputs": [],
   "source": [
    "# tgt_valid.shape, yhat2.shape"
   ]
  },
  {
   "cell_type": "code",
   "execution_count": 83,
   "metadata": {},
   "outputs": [
    {
     "data": {
      "text/plain": [
       "tensor([[-0.0330, -0.0508],\n",
       "        [-0.0331, -0.0528],\n",
       "        [-0.0331, -0.0535],\n",
       "        [-0.0331, -0.0539]])"
      ]
     },
     "execution_count": 83,
     "metadata": {},
     "output_type": "execute_result"
    }
   ],
   "source": [
    "yhat"
   ]
  },
  {
   "cell_type": "code",
   "execution_count": 84,
   "metadata": {},
   "outputs": [],
   "source": [
    "tmp = model(srcValid[0], tgtValid[0])"
   ]
  },
  {
   "cell_type": "code",
   "execution_count": 85,
   "metadata": {},
   "outputs": [
    {
     "data": {
      "text/plain": [
       "tensor([[-1.8107, -0.5795],\n",
       "        [-3.6703, -0.9463],\n",
       "        [-5.5159, -1.2825],\n",
       "        [-7.3785, -1.5946]], grad_fn=<AddmmBackward0>)"
      ]
     },
     "execution_count": 85,
     "metadata": {},
     "output_type": "execute_result"
    }
   ],
   "source": [
    "tmp"
   ]
  },
  {
   "cell_type": "code",
   "execution_count": 86,
   "metadata": {},
   "outputs": [
    {
     "data": {
      "text/plain": [
       "(tensor([[-1.7303, -0.4162],\n",
       "         [-3.5138, -0.7657],\n",
       "         [-5.2972, -1.1151],\n",
       "         [-7.1366, -1.4104]]),\n",
       " tensor([[-0.0330, -0.0508],\n",
       "         [-0.0331, -0.0528],\n",
       "         [-0.0331, -0.0535],\n",
       "         [-0.0331, -0.0539]]))"
      ]
     },
     "execution_count": 86,
     "metadata": {},
     "output_type": "execute_result"
    }
   ],
   "source": [
    "tgtValid[0], yhat"
   ]
  },
  {
   "cell_type": "markdown",
   "metadata": {},
   "source": [
    "### Draft"
   ]
  },
  {
   "cell_type": "code",
   "execution_count": 87,
   "metadata": {},
   "outputs": [],
   "source": [
    "    # def predict(self, src: torch.tensor, max_len: Optional[int] = None) -> torch.tensor:\n",
    "    #     self.eval()\n",
    "    #     max_len = 4 if max_len is None else max_len\n",
    "    #     tgt = torch.zeros(max_len, 2)\n",
    "\n",
    "    #     with torch.no_grad():\n",
    "    #         for i in range(max_len):\n",
    "    #             # Pass the previous predictions as the target sequence\n",
    "    #             output = self.forward(src, tgt)\n",
    "\n",
    "    #             # Get the last predicted token for each sequence in the batch\n",
    "    #             predicted_token = output[-1, :]\n",
    "\n",
    "    #             # Update the target sequence with the predicted tokens\n",
    "    #             tgt[i, :] = predicted_token\n",
    "\n",
    "    #     return tgt\n",
    "    # def predict(self, src: torch.tensor, max_len: Optional[int] = None) -> torch.tensor:\n",
    "        \n",
    "    #     self.eval()  # Set the model back to training mode\n",
    "    #     max_len = 4 if max_len is None else max_len\n",
    "    #     tgt = torch.zeros(max_len, 2)\n",
    "\n",
    "    #     with torch.no_grad():\n",
    "    #         for i in range(max_len):\n",
    "    #             # Pass the previous predictions as the target sequence\n",
    "    #             output = self.forward(src, tgt[:i+1])\n",
    "\n",
    "    #             # Get the entire predicted sequence for each sequence in the batch\n",
    "    #             predicted_sequence = output[:, :2]\n",
    "\n",
    "    #             # Update the target sequence with the predicted sequence\n",
    "    #             tgt[:i+1, :] = predicted_sequence\n",
    "\n",
    "    #     return tgt\n",
    "    \n",
    "    # def predict(self, src: torch.tensor, max_len: Optional[int] = None) -> torch.tensor:\n",
    "    #     self.eval()\n",
    "    #     max_len = 4 if max_len is None else max_len\n",
    "    #     tgt = torch.zeros(max_len, 2)\n",
    "\n",
    "    #     with torch.no_grad():\n",
    "    #         for i in range(max_len):\n",
    "    #             # Pass the source sequence and the current target sequence to generate the next token\n",
    "    #             output = self.forward(src, tgt[:i+1])\n",
    "\n",
    "    #             # Get the next predicted token for each sequence in the batch\n",
    "    #             predicted_token = output[-1, :]\n",
    "\n",
    "    #             # Update the target sequence with the next predicted token\n",
    "    #             tgt[i, :] = predicted_token\n",
    "\n",
    "    #     return tgt\n",
    "    "
   ]
  },
  {
   "cell_type": "code",
   "execution_count": 88,
   "metadata": {},
   "outputs": [],
   "source": [
    "# class MyPlannerTransformer(nn.Module):\n",
    "#     def __init__(self, num_features=6, numOfEncoderLayers = 2, numOfDecoderLayers=2) -> None:\n",
    "#         super().__init__()\n",
    "#         self.transformer_model = nn.Transformer(\n",
    "#             d_model=num_features,\n",
    "#             nhead=1,\n",
    "#             num_encoder_layers=numOfEncoderLayers,\n",
    "#             num_decoder_layers=numOfDecoderLayers,\n",
    "#             dim_feedforward=1024,\n",
    "#             dropout=0.1,\n",
    "#         )\n",
    "#         # map tgt to have the same number of features as src\n",
    "#         self.tgt = nn.Linear(2, num_features)\n",
    "#         self.output = nn.Linear(num_features, 2)\n",
    "\n",
    "#     def forward(\n",
    "#         self,\n",
    "#         src: torch.tensor,\n",
    "#         tgt: torch.tensor,\n",
    "#         src_mask: Optional[torch.tensor]=None,\n",
    "#         tgt_mask: Optional[torch.tensor]=None,\n",
    "#         memory_mask: Optional[torch.tensor]=None,\n",
    "#         src_key_padding_mask: Optional[torch.tensor]=None,\n",
    "#         tgt_key_padding_mask: Optional[torch.tensor]=None,\n",
    "#         memory_key_padding_mask: Optional[torch.tensor]=None,\n",
    "#         max_len: Optional[int]=None,\n",
    "        \n",
    "#     )->torch.tensor:\n",
    "#         tgt = self.tgt(tgt)\n",
    "#         out = self.transformer_model(src, tgt)\n",
    "#         out = self.output(out)\n",
    "#         return out\n",
    "    \n",
    "#     def predict(self, src: torch.tensor, outputSequence: Optional[int] = None) -> torch.tensor:\n",
    "#         self.eval()\n",
    "#         outputSequence = 4 if outputSequence is None else outputSequence\n",
    "#         tgt = torch.zeros(outputSequence, 2)\n",
    "\n",
    "#         with torch.no_grad():\n",
    "#             for i in range(outputSequence):\n",
    "#                 prediction = self.forward(src, tgt[:i+1])\n",
    "#                 tgt[i] = prediction[-1]\n",
    "        \n",
    "#         return tgt\n",
    "    \n",
    "#     # def predict(self, src: torch.tensor, max_len: Optional[int] = None) -> torch.tensor:\n",
    "#     #     self.eval()\n",
    "#     #     max_len = 4 if max_len is None else max_len\n",
    "#     #     tgt = torch.zeros(max_len, 2)\n",
    "\n",
    "#     #     with torch.no_grad():\n",
    "#     #         for i in range(max_len):\n",
    "#     #             # Pass the previous predictions as the target sequence\n",
    "#     #             output = self.forward(src, tgt)\n",
    "\n",
    "#     #             # Get the last predicted token for each sequence in the batch\n",
    "#     #             predicted_token = output[-1, :]\n",
    "\n",
    "#     #             # Update the target sequence with the predicted tokens\n",
    "#     #             tgt[i, :] = predicted_token\n",
    "\n",
    "#     #     return tgt\n",
    "#     # def predict(self, src: torch.tensor, max_len: Optional[int] = None) -> torch.tensor:\n",
    "        \n",
    "#     #     self.eval()  # Set the model back to training mode\n",
    "#     #     max_len = 4 if max_len is None else max_len\n",
    "#     #     tgt = torch.zeros(max_len, 2)\n",
    "\n",
    "#     #     with torch.no_grad():\n",
    "#     #         for i in range(max_len):\n",
    "#     #             # Pass the previous predictions as the target sequence\n",
    "#     #             output = self.forward(src, tgt[:i+1])\n",
    "\n",
    "#     #             # Get the entire predicted sequence for each sequence in the batch\n",
    "#     #             predicted_sequence = output[:, :2]\n",
    "\n",
    "#     #             # Update the target sequence with the predicted sequence\n",
    "#     #             tgt[:i+1, :] = predicted_sequence\n",
    "\n",
    "#     #     return tgt\n",
    "    \n",
    "#     # def predict(self, src: torch.tensor, max_len: Optional[int] = None) -> torch.tensor:\n",
    "#     #     self.eval()\n",
    "#     #     max_len = 4 if max_len is None else max_len\n",
    "#     #     tgt = torch.zeros(max_len, 2)\n",
    "\n",
    "#     #     with torch.no_grad():\n",
    "#     #         for i in range(max_len):\n",
    "#     #             # Pass the source sequence and the current target sequence to generate the next token\n",
    "#     #             output = self.forward(src, tgt[:i+1])\n",
    "\n",
    "#     #             # Get the next predicted token for each sequence in the batch\n",
    "#     #             predicted_token = output[-1, :]\n",
    "\n",
    "#     #             # Update the target sequence with the next predicted token\n",
    "#     #             tgt[i, :] = predicted_token\n",
    "\n",
    "#     #     return tgt\n",
    "    \n",
    "\n",
    "\n",
    "\n",
    "\n",
    "         \n",
    "    "
   ]
  },
  {
   "cell_type": "code",
   "execution_count": 89,
   "metadata": {},
   "outputs": [],
   "source": [
    "# def trainModel(model, srcTrain, tgtTrain, srcValid, tgtValid,epochs=10):\n",
    "#     optimizer = torch.optim.Adam(model.parameters(), lr=0.01)\n",
    "#     criterion = nn.MSELoss()\n",
    "#     LOSS = []\n",
    "#     VAL_LOSS = []\n",
    "#     for epoch in range(epochs):\n",
    "#         COST = 0\n",
    "#         VAL_COST = 0\n",
    "#         for i in range(0, numberOfTrainSamples, 100):\n",
    "#             srcBatch = srcTrain[i:i+100].transpose(0, 1)\n",
    "#             tgtBatch = tgtTrain[i:i+100].transpose(0, 1)\n",
    "#             optimizer.zero_grad()\n",
    "#             prediction = model(srcBatch, tgtBatch)\n",
    "#             loss = criterion(prediction, tgtBatch)\n",
    "#             loss.backward()\n",
    "#             COST += loss.item()\n",
    "#         avg_loss = COST / len(srcTrain)\n",
    "#         LOSS.append(avg_loss)\n",
    "#         with torch.no_grad():\n",
    "#             for src, tgt in zip(srcValid, tgtValid):\n",
    "#                 prediction = model(src, tgt)\n",
    "#                 loss = criterion(prediction, tgt)\n",
    "#                 VAL_COST += loss.item()\n",
    "                \n",
    "#         avg_val_loss = VAL_COST / len(srcTrain)\n",
    "#         VAL_LOSS.append(avg_val_loss)\n",
    "        \n",
    "#         print(f'Epoch: {epoch+1}\\nTraining Loss: {avg_loss}, Validation Loss: {avg_val_loss}')\n",
    "#         print('-----------------------------')\n",
    "\n",
    "\n",
    "#     return LOSS, VAL_LOSS\n",
    "\n",
    "# train_loss, val_loss = trainModel(model, srcTrain,tgtTrain, srcValid, tgtValid,epochs=10)"
   ]
  }
 ],
 "metadata": {
  "kernelspec": {
   "display_name": "Python 3",
   "language": "python",
   "name": "python3"
  },
  "language_info": {
   "codemirror_mode": {
    "name": "ipython",
    "version": 3
   },
   "file_extension": ".py",
   "mimetype": "text/x-python",
   "name": "python",
   "nbconvert_exporter": "python",
   "pygments_lexer": "ipython3",
<<<<<<< HEAD
   "version": "3.11.1"
=======
   "version": "0.0.0"
>>>>>>> 2e07ef1ef (feat: adding new training data)
  }
 },
 "nbformat": 4,
 "nbformat_minor": 2
}
