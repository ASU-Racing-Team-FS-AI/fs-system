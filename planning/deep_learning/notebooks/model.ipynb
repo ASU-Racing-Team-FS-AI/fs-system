{
 "cells": [
  {
   "cell_type": "code",
   "execution_count": 1004,
   "metadata": {},
   "outputs": [],
   "source": [
    "import torch\n",
    "import torch.nn as nn\n",
    "from typing import Optional\n",
    "import matplotlib.pyplot as plt"
   ]
  },
  {
   "cell_type": "code",
   "execution_count": 1005,
   "metadata": {},
   "outputs": [],
   "source": [
    "class MyPlannerTransformer(nn.Module):\n",
    "    def __init__(self, d_model=16,nhead = 2,num_encoder_layers = 2, num_decoder_layers=2, dropout = 0.1, dim_feedforward = 2048) -> None:\n",
    "        super().__init__()\n",
    "        self.transformer = nn.Transformer(\n",
    "            d_model,\n",
    "            nhead,\n",
    "            num_encoder_layers,\n",
    "            num_decoder_layers,\n",
    "            dim_feedforward,\n",
    "            dropout,\n",
    "            batch_first=True\n",
    "        )\n",
    "        # map tgt to have the same number of features as src\n",
    "        self.input = nn.Linear(5, d_model)\n",
    "        self.tgt = nn.Linear(2, d_model)\n",
    "        self.output = nn.Linear(d_model, 2)\n",
    "\n",
    "    def forward(\n",
    "        self,\n",
    "        src: torch.tensor,\n",
    "        tgt: torch.tensor,\n",
    "        src_mask: Optional[torch.tensor]=None,\n",
    "        tgt_mask: Optional[torch.tensor]=None,\n",
    "        memory_mask: Optional[torch.tensor]=None,\n",
    "        src_key_padding_mask: Optional[torch.tensor]=None,\n",
    "        tgt_key_padding_mask: Optional[torch.tensor]=None,\n",
    "        memory_key_padding_mask: Optional[torch.tensor]=None,\n",
    "        max_len: Optional[int]=None,\n",
    "        \n",
    "    )->torch.tensor:\n",
    "        src = self.input(src)\n",
    "        tgt = self.tgt(tgt)\n",
    "        out = self.transformer(src, tgt)\n",
    "        out = self.output(out)\n",
    "        return out\n",
    "    \n",
    "    def predictV1(self, src: torch.tensor, outputSequence: Optional[int] = None) -> torch.tensor:\n",
    "        \n",
    "        \"\"\"\n",
    "        predict v1 is a function that uses the transformer model to predict the next waypoints\n",
    "        it works by the auto-regressive property of the transformer model\n",
    "        it predicts one waypoint at a time and uses the predicted waypoint to predict the next waypoint\n",
    "\n",
    "        Args:\n",
    "            src (torch.tensor):\n",
    "            \n",
    "            takes a tensor of shape (sequence, 5)\n",
    "            in our case sequence is 10 and 5 is the number of features\n",
    "            \n",
    "            outputSequence (Optional[int], optional):\n",
    "            \n",
    "            number of waypoints to predict. Defaults to None.\n",
    "            if None, it will predict 4 waypoints\n",
    "            \n",
    "\n",
    "        Returns:\n",
    "            torch.tensor:\n",
    "            \n",
    "            tgt tensor of shape (outputSequence, 2)\n",
    "            outputSequence is the number of waypoints to predict\n",
    "            2 is the number of features\n",
    "            \n",
    "        \"\"\"  \n",
    "              \n",
    "        self.eval()\n",
    "        outputSequence = 4 if outputSequence is None else outputSequence\n",
    "        tgt = torch.zeros(outputSequence, 2)\n",
    "\n",
    "        with torch.no_grad():\n",
    "             for i in range(outputSequence):\n",
    "                    prediction = self.forward(src, tgt[:i+1])\n",
    "                    tgt[i] = prediction[-1]    \n",
    "        return tgt\n",
    "    \n",
    "    def predictV2(self, src: torch.tensor, outputSequence: Optional[int] = None) -> torch.tensor:\n",
    "        \n",
    "        \"\"\"\n",
    "        predict v2 is a function that uses the transformer model to predict the next waypoints\n",
    "        it works by passing the entire sequence to the transformer model and predicting the entire sequence at once\n",
    "\n",
    "        Args:\n",
    "            src (torch.tensor):\n",
    "            \n",
    "            takes a tensor of shape (sequence, 5)\n",
    "            in our case sequence is 10 and 5 is the number of features\n",
    "            \n",
    "            outputSequence (Optional[int], optional):\n",
    "            \n",
    "            number of waypoints to predict. Defaults to None.\n",
    "            if None, it will predict 4 waypoints\n",
    "\n",
    "        Returns:\n",
    "            torch.tensor:\n",
    "            \n",
    "            tgt tensor of shape (outputSequence, 2)\n",
    "            outputSequence is the number of waypoints to predict\n",
    "            2 is the number of features\n",
    "        \"\"\"        \n",
    "        \n",
    "        self.eval()\n",
    "        outputSequence = 4 if outputSequence is None else outputSequence\n",
    "        tgt = torch.zeros(outputSequence, 2)\n",
    "        prediction = self.forward(src, tgt)\n",
    "        \n",
    "        return prediction\n",
    "    \n",
    "    def trainModel(self,model, trainLoader, validLoader,epochs = 10):\n",
    "        optimizer = torch.optim.Adam(model.parameters(), lr=0.001)\n",
    "        criterion = nn.MSELoss()\n",
    "        LOSS = []\n",
    "        VAL_LOSS = []\n",
    "        for epoch in range(epochs):\n",
    "            COST = 0\n",
    "            VAL_COST = 0\n",
    "            for src, tgt in trainLoader:\n",
    "                optimizer.zero_grad()\n",
    "                prediction = self.forward(src, tgt)\n",
    "                loss = criterion(prediction, tgt)\n",
    "                loss.backward()\n",
    "                COST += loss.item()\n",
    "                optimizer.step()\n",
    "            avgLoss = COST / len(trainLoader.dataset)\n",
    "            LOSS.append(avgLoss)\n",
    "            with torch.no_grad():\n",
    "                for src, tgt in validLoader:\n",
    "                    prediction = self.forward(src, tgt)\n",
    "                    loss = criterion(prediction, tgt)\n",
    "                    VAL_COST += loss.item()\n",
    "                    \n",
    "            avgValidLoss = VAL_COST / len(validLoader.dataset)\n",
    "            VAL_LOSS.append(avgValidLoss)\n",
    "            \n",
    "            print(f'Epoch: {epoch+1}/{epochs}\\nTraining Loss: {avgLoss}, Validation Loss: {avgValidLoss}')\n",
    "            print('-----------------------------')\n",
    "\n",
    "\n",
    "        return LOSS, VAL_LOSS\n",
    "    \n",
    "    "
   ]
  },
  {
   "cell_type": "code",
   "execution_count": 1006,
   "metadata": {},
   "outputs": [],
   "source": [
    "def loadData(dir: str) -> torch.tensor: \n",
    "    data = torch.load(dir)\n",
    "    return data"
   ]
  },
  {
   "cell_type": "code",
   "execution_count": 1007,
   "metadata": {},
   "outputs": [],
   "source": [
    "#batch_size = 10\n",
    "srcTrain = loadData('../inputs/tensors/train/src_train.pt')\n",
    "tgtTrain = loadData('../inputs/tensors/train/tgt_train.pt')\n",
    "srcValid = loadData('../inputs/tensors/valid/src_valid.pt')\n",
    "tgtValid = loadData('../inputs/tensors/valid/tgt_valid.pt')"
   ]
  },
  {
   "cell_type": "code",
   "execution_count": 1008,
   "metadata": {},
   "outputs": [],
   "source": [
    "srcSeqLength = 10\n",
    "srcNumOfSequencesTrain = srcTrain.size(0) // srcSeqLength\n",
    "tgtSeqLength = 4\n",
    "tgtNumOfSequencesTrain = tgtTrain.size(0) // tgtSeqLength\n",
    "srcNumOfSequencesValid = srcValid.size(0) // srcSeqLength\n",
    "tgtNumOfSequencesValid = tgtValid.size(0) // tgtSeqLength"
   ]
  },
  {
   "cell_type": "code",
   "execution_count": 1009,
   "metadata": {},
   "outputs": [],
   "source": [
    "# reshape the tensors\n",
    "srcTrain = srcTrain[:srcNumOfSequencesTrain * srcSeqLength, :].view(srcNumOfSequencesTrain, srcSeqLength, -1)\n",
    "tgtTrain = tgtTrain[:tgtNumOfSequencesTrain * tgtSeqLength, :].view(tgtNumOfSequencesTrain, tgtSeqLength, -1)\n",
    "srcValid = srcValid[:srcNumOfSequencesValid * srcSeqLength, :].view(srcNumOfSequencesValid, srcSeqLength, -1)\n",
    "tgtValid = tgtValid[:tgtNumOfSequencesValid * tgtSeqLength, :].view(tgtNumOfSequencesValid, tgtSeqLength, -1)"
   ]
  },
  {
   "cell_type": "code",
   "execution_count": 1010,
   "metadata": {},
   "outputs": [],
   "source": [
    "# data loader\n",
    "from torch.utils.data import DataLoader\n",
    "trainData = list(zip(srcTrain, tgtTrain))\n",
    "validData = list(zip(srcValid, tgtValid))\n",
    "\n",
    "trainLoader = DataLoader(trainData, batch_size=100, shuffle=True)\n",
    "validLoader = DataLoader(validData, batch_size=100, shuffle=True)"
   ]
  },
  {
   "cell_type": "code",
   "execution_count": 1011,
   "metadata": {},
   "outputs": [],
   "source": [
    "model = MyPlannerTransformer()\n",
    "#model.forward(src, tgt).shape"
   ]
  },
  {
   "cell_type": "code",
   "execution_count": 1012,
   "metadata": {},
   "outputs": [
    {
     "name": "stdout",
     "output_type": "stream",
     "text": [
      "Epoch: 1/10\n",
      "Training Loss: 0.4513803404144011, Validation Loss: 0.5196527804968492\n",
      "-----------------------------\n",
      "Epoch: 2/10\n",
      "Training Loss: 0.35132398893798217, Validation Loss: 0.3782075965929331\n",
      "-----------------------------\n",
      "Epoch: 3/10\n",
      "Training Loss: 0.27179564900364056, Validation Loss: 0.30577984695914406\n",
      "-----------------------------\n",
      "Epoch: 4/10\n",
      "Training Loss: 0.20328380506210397, Validation Loss: 0.2183535653840071\n",
      "-----------------------------\n",
      "Epoch: 5/10\n",
      "Training Loss: 0.14435316358803588, Validation Loss: 0.15475043110877462\n",
      "-----------------------------\n",
      "Epoch: 6/10\n",
      "Training Loss: 0.09981298290534595, Validation Loss: 0.10893086067535593\n",
      "-----------------------------\n",
      "Epoch: 7/10\n",
      "Training Loss: 0.06787592122441034, Validation Loss: 0.07154191365032075\n",
      "-----------------------------\n",
      "Epoch: 8/10\n",
      "Training Loss: 0.046787950232053496, Validation Loss: 0.050199867794348756\n",
      "-----------------------------\n",
      "Epoch: 9/10\n",
      "Training Loss: 0.03227214092847005, Validation Loss: 0.034636474255495854\n",
      "-----------------------------\n",
      "Epoch: 10/10\n",
      "Training Loss: 0.022669697090365412, Validation Loss: 0.02351877786828287\n",
      "-----------------------------\n"
     ]
    }
   ],
   "source": [
    "train_loss, val_loss = model.trainModel(model, trainLoader, validLoader,epochs=10)"
   ]
  },
  {
   "cell_type": "code",
   "execution_count": 1013,
   "metadata": {},
   "outputs": [],
   "source": [
    "def plotLoss(loss: list, type: str):\n",
    "    plt.plot(loss)\n",
    "    plt.xlabel('Epoch')\n",
    "    plt.ylabel('Loss')\n",
    "    plt.title(f'{type} Loss')\n",
    "    plt.show()"
   ]
  },
  {
   "cell_type": "code",
   "execution_count": 1014,
   "metadata": {},
   "outputs": [
    {
     "data": {
      "image/png": "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",
      "text/plain": [
       "<Figure size 640x480 with 1 Axes>"
      ]
     },
     "metadata": {},
     "output_type": "display_data"
    },
    {
     "data": {
      "image/png": "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",
      "text/plain": [
       "<Figure size 640x480 with 1 Axes>"
      ]
     },
     "metadata": {},
     "output_type": "display_data"
    }
   ],
   "source": [
    "plotLoss(train_loss, 'Training')\n",
    "plotLoss(val_loss, 'Validation')"
   ]
  },
  {
   "cell_type": "code",
   "execution_count": 1015,
   "metadata": {},
   "outputs": [
    {
     "data": {
      "text/plain": [
       "(torch.Size([10, 5]), torch.Size([4, 2]))"
      ]
     },
     "execution_count": 1015,
     "metadata": {},
     "output_type": "execute_result"
    }
   ],
   "source": [
    "srcValid[0].shape, tgtValid[0].shape"
   ]
  },
  {
   "cell_type": "code",
   "execution_count": 1016,
   "metadata": {},
   "outputs": [],
   "source": [
    "yhat2 = model(srcValid[0], tgtValid[0])"
   ]
  },
  {
   "cell_type": "code",
   "execution_count": 1017,
   "metadata": {},
   "outputs": [
    {
     "data": {
      "text/plain": [
       "torch.Size([318, 10, 5])"
      ]
     },
     "execution_count": 1017,
     "metadata": {},
     "output_type": "execute_result"
    }
   ],
   "source": [
    "srcValid.shape"
   ]
  },
  {
   "cell_type": "code",
   "execution_count": 1018,
   "metadata": {},
   "outputs": [],
   "source": [
    "# # predict\n",
    "yhat = model.predictV1(srcValid[0])"
   ]
  },
  {
   "cell_type": "code",
   "execution_count": 1019,
   "metadata": {},
   "outputs": [],
   "source": [
    "yhat2 = model.predictV2(srcValid[0])"
   ]
  },
  {
   "cell_type": "code",
   "execution_count": 1020,
   "metadata": {},
   "outputs": [
    {
     "data": {
      "text/plain": [
       "(tensor([[-0.2628,  0.2865],\n",
       "         [-0.2757,  0.2997],\n",
       "         [-0.2805,  0.3045],\n",
       "         [-0.2831,  0.3070]]),\n",
       " tensor([[-0.2628,  0.2865],\n",
       "         [-0.2628,  0.2865],\n",
       "         [-0.2628,  0.2865],\n",
       "         [-0.2628,  0.2865]], grad_fn=<AddmmBackward0>),\n",
       " tensor([[-1.7303, -0.4162],\n",
       "         [-3.5138, -0.7657],\n",
       "         [-5.2972, -1.1151],\n",
       "         [-7.1366, -1.4104]]))"
      ]
     },
     "execution_count": 1020,
     "metadata": {},
     "output_type": "execute_result"
    }
   ],
   "source": [
    "# compare between the two predictions\n",
    "yhat, yhat2, tgtValid[0]"
   ]
  },
  {
   "cell_type": "code",
   "execution_count": 1021,
   "metadata": {},
   "outputs": [],
   "source": [
    "# yhat2.shape, yhat.shape"
   ]
  },
  {
   "cell_type": "code",
   "execution_count": 1022,
   "metadata": {},
   "outputs": [],
   "source": [
    "# tgt_valid.shape, yhat2.shape"
   ]
  },
  {
   "cell_type": "code",
   "execution_count": 1023,
   "metadata": {},
   "outputs": [
    {
     "data": {
      "text/plain": [
       "tensor([[-0.2628,  0.2865],\n",
       "        [-0.2757,  0.2997],\n",
       "        [-0.2805,  0.3045],\n",
       "        [-0.2831,  0.3070]])"
      ]
     },
     "execution_count": 1023,
     "metadata": {},
     "output_type": "execute_result"
    }
   ],
   "source": [
    "yhat"
   ]
  },
  {
   "cell_type": "code",
   "execution_count": 1024,
   "metadata": {},
   "outputs": [],
   "source": [
    "tmp = model(srcValid[0], tgtValid[0])"
   ]
  },
  {
   "cell_type": "code",
   "execution_count": 1025,
   "metadata": {},
   "outputs": [
    {
     "data": {
      "text/plain": [
       "tensor([[-2.1233, -0.1855],\n",
       "        [-3.7375, -0.5662],\n",
       "        [-5.4254, -0.8649],\n",
       "        [-7.1848, -1.0918]], grad_fn=<AddmmBackward0>)"
      ]
     },
     "execution_count": 1025,
     "metadata": {},
     "output_type": "execute_result"
    }
   ],
   "source": [
    "tmp"
   ]
  },
  {
   "cell_type": "code",
   "execution_count": 1026,
   "metadata": {},
   "outputs": [
    {
     "data": {
      "text/plain": [
       "(tensor([[-1.7303, -0.4162],\n",
       "         [-3.5138, -0.7657],\n",
       "         [-5.2972, -1.1151],\n",
       "         [-7.1366, -1.4104]]),\n",
       " tensor([[-0.2628,  0.2865],\n",
       "         [-0.2757,  0.2997],\n",
       "         [-0.2805,  0.3045],\n",
       "         [-0.2831,  0.3070]]))"
      ]
     },
     "execution_count": 1026,
     "metadata": {},
     "output_type": "execute_result"
    }
   ],
   "source": [
    "tgtValid[0], yhat"
   ]
  },
  {
   "cell_type": "markdown",
   "metadata": {},
   "source": [
    "### Draft"
   ]
  },
  {
   "cell_type": "code",
   "execution_count": 1027,
   "metadata": {},
   "outputs": [],
   "source": [
    "    # def predict(self, src: torch.tensor, max_len: Optional[int] = None) -> torch.tensor:\n",
    "    #     self.eval()\n",
    "    #     max_len = 4 if max_len is None else max_len\n",
    "    #     tgt = torch.zeros(max_len, 2)\n",
    "\n",
    "    #     with torch.no_grad():\n",
    "    #         for i in range(max_len):\n",
    "    #             # Pass the previous predictions as the target sequence\n",
    "    #             output = self.forward(src, tgt)\n",
    "\n",
    "    #             # Get the last predicted token for each sequence in the batch\n",
    "    #             predicted_token = output[-1, :]\n",
    "\n",
    "    #             # Update the target sequence with the predicted tokens\n",
    "    #             tgt[i, :] = predicted_token\n",
    "\n",
    "    #     return tgt\n",
    "    # def predict(self, src: torch.tensor, max_len: Optional[int] = None) -> torch.tensor:\n",
    "        \n",
    "    #     self.eval()  # Set the model back to training mode\n",
    "    #     max_len = 4 if max_len is None else max_len\n",
    "    #     tgt = torch.zeros(max_len, 2)\n",
    "\n",
    "    #     with torch.no_grad():\n",
    "    #         for i in range(max_len):\n",
    "    #             # Pass the previous predictions as the target sequence\n",
    "    #             output = self.forward(src, tgt[:i+1])\n",
    "\n",
    "    #             # Get the entire predicted sequence for each sequence in the batch\n",
    "    #             predicted_sequence = output[:, :2]\n",
    "\n",
    "    #             # Update the target sequence with the predicted sequence\n",
    "    #             tgt[:i+1, :] = predicted_sequence\n",
    "\n",
    "    #     return tgt\n",
    "    \n",
    "    # def predict(self, src: torch.tensor, max_len: Optional[int] = None) -> torch.tensor:\n",
    "    #     self.eval()\n",
    "    #     max_len = 4 if max_len is None else max_len\n",
    "    #     tgt = torch.zeros(max_len, 2)\n",
    "\n",
    "    #     with torch.no_grad():\n",
    "    #         for i in range(max_len):\n",
    "    #             # Pass the source sequence and the current target sequence to generate the next token\n",
    "    #             output = self.forward(src, tgt[:i+1])\n",
    "\n",
    "    #             # Get the next predicted token for each sequence in the batch\n",
    "    #             predicted_token = output[-1, :]\n",
    "\n",
    "    #             # Update the target sequence with the next predicted token\n",
    "    #             tgt[i, :] = predicted_token\n",
    "\n",
    "    #     return tgt\n",
    "    "
   ]
  },
  {
   "cell_type": "code",
   "execution_count": 1028,
   "metadata": {},
   "outputs": [],
   "source": [
    "# class MyPlannerTransformer(nn.Module):\n",
    "#     def __init__(self, num_features=6, numOfEncoderLayers = 2, numOfDecoderLayers=2) -> None:\n",
    "#         super().__init__()\n",
    "#         self.transformer_model = nn.Transformer(\n",
    "#             d_model=num_features,\n",
    "#             nhead=1,\n",
    "#             num_encoder_layers=numOfEncoderLayers,\n",
    "#             num_decoder_layers=numOfDecoderLayers,\n",
    "#             dim_feedforward=1024,\n",
    "#             dropout=0.1,\n",
    "#         )\n",
    "#         # map tgt to have the same number of features as src\n",
    "#         self.tgt = nn.Linear(2, num_features)\n",
    "#         self.output = nn.Linear(num_features, 2)\n",
    "\n",
    "#     def forward(\n",
    "#         self,\n",
    "#         src: torch.tensor,\n",
    "#         tgt: torch.tensor,\n",
    "#         src_mask: Optional[torch.tensor]=None,\n",
    "#         tgt_mask: Optional[torch.tensor]=None,\n",
    "#         memory_mask: Optional[torch.tensor]=None,\n",
    "#         src_key_padding_mask: Optional[torch.tensor]=None,\n",
    "#         tgt_key_padding_mask: Optional[torch.tensor]=None,\n",
    "#         memory_key_padding_mask: Optional[torch.tensor]=None,\n",
    "#         max_len: Optional[int]=None,\n",
    "        \n",
    "#     )->torch.tensor:\n",
    "#         tgt = self.tgt(tgt)\n",
    "#         out = self.transformer_model(src, tgt)\n",
    "#         out = self.output(out)\n",
    "#         return out\n",
    "    \n",
    "#     def predict(self, src: torch.tensor, outputSequence: Optional[int] = None) -> torch.tensor:\n",
    "#         self.eval()\n",
    "#         outputSequence = 4 if outputSequence is None else outputSequence\n",
    "#         tgt = torch.zeros(outputSequence, 2)\n",
    "\n",
    "#         with torch.no_grad():\n",
    "#             for i in range(outputSequence):\n",
    "#                 prediction = self.forward(src, tgt[:i+1])\n",
    "#                 tgt[i] = prediction[-1]\n",
    "        \n",
    "#         return tgt\n",
    "    \n",
    "#     # def predict(self, src: torch.tensor, max_len: Optional[int] = None) -> torch.tensor:\n",
    "#     #     self.eval()\n",
    "#     #     max_len = 4 if max_len is None else max_len\n",
    "#     #     tgt = torch.zeros(max_len, 2)\n",
    "\n",
    "#     #     with torch.no_grad():\n",
    "#     #         for i in range(max_len):\n",
    "#     #             # Pass the previous predictions as the target sequence\n",
    "#     #             output = self.forward(src, tgt)\n",
    "\n",
    "#     #             # Get the last predicted token for each sequence in the batch\n",
    "#     #             predicted_token = output[-1, :]\n",
    "\n",
    "#     #             # Update the target sequence with the predicted tokens\n",
    "#     #             tgt[i, :] = predicted_token\n",
    "\n",
    "#     #     return tgt\n",
    "#     # def predict(self, src: torch.tensor, max_len: Optional[int] = None) -> torch.tensor:\n",
    "        \n",
    "#     #     self.eval()  # Set the model back to training mode\n",
    "#     #     max_len = 4 if max_len is None else max_len\n",
    "#     #     tgt = torch.zeros(max_len, 2)\n",
    "\n",
    "#     #     with torch.no_grad():\n",
    "#     #         for i in range(max_len):\n",
    "#     #             # Pass the previous predictions as the target sequence\n",
    "#     #             output = self.forward(src, tgt[:i+1])\n",
    "\n",
    "#     #             # Get the entire predicted sequence for each sequence in the batch\n",
    "#     #             predicted_sequence = output[:, :2]\n",
    "\n",
    "#     #             # Update the target sequence with the predicted sequence\n",
    "#     #             tgt[:i+1, :] = predicted_sequence\n",
    "\n",
    "#     #     return tgt\n",
    "    \n",
    "#     # def predict(self, src: torch.tensor, max_len: Optional[int] = None) -> torch.tensor:\n",
    "#     #     self.eval()\n",
    "#     #     max_len = 4 if max_len is None else max_len\n",
    "#     #     tgt = torch.zeros(max_len, 2)\n",
    "\n",
    "#     #     with torch.no_grad():\n",
    "#     #         for i in range(max_len):\n",
    "#     #             # Pass the source sequence and the current target sequence to generate the next token\n",
    "#     #             output = self.forward(src, tgt[:i+1])\n",
    "\n",
    "#     #             # Get the next predicted token for each sequence in the batch\n",
    "#     #             predicted_token = output[-1, :]\n",
    "\n",
    "#     #             # Update the target sequence with the next predicted token\n",
    "#     #             tgt[i, :] = predicted_token\n",
    "\n",
    "#     #     return tgt\n",
    "    \n",
    "\n",
    "\n",
    "\n",
    "\n",
    "         \n",
    "    "
   ]
  },
  {
   "cell_type": "code",
   "execution_count": 1029,
   "metadata": {},
   "outputs": [],
   "source": [
    "# def trainModel(model, srcTrain, tgtTrain, srcValid, tgtValid,epochs=10):\n",
    "#     optimizer = torch.optim.Adam(model.parameters(), lr=0.01)\n",
    "#     criterion = nn.MSELoss()\n",
    "#     LOSS = []\n",
    "#     VAL_LOSS = []\n",
    "#     for epoch in range(epochs):\n",
    "#         COST = 0\n",
    "#         VAL_COST = 0\n",
    "#         for i in range(0, numberOfTrainSamples, 100):\n",
    "#             srcBatch = srcTrain[i:i+100].transpose(0, 1)\n",
    "#             tgtBatch = tgtTrain[i:i+100].transpose(0, 1)\n",
    "#             optimizer.zero_grad()\n",
    "#             prediction = model(srcBatch, tgtBatch)\n",
    "#             loss = criterion(prediction, tgtBatch)\n",
    "#             loss.backward()\n",
    "#             COST += loss.item()\n",
    "#         avg_loss = COST / len(srcTrain)\n",
    "#         LOSS.append(avg_loss)\n",
    "#         with torch.no_grad():\n",
    "#             for src, tgt in zip(srcValid, tgtValid):\n",
    "#                 prediction = model(src, tgt)\n",
    "#                 loss = criterion(prediction, tgt)\n",
    "#                 VAL_COST += loss.item()\n",
    "                \n",
    "#         avg_val_loss = VAL_COST / len(srcTrain)\n",
    "#         VAL_LOSS.append(avg_val_loss)\n",
    "        \n",
    "#         print(f'Epoch: {epoch+1}\\nTraining Loss: {avg_loss}, Validation Loss: {avg_val_loss}')\n",
    "#         print('-----------------------------')\n",
    "\n",
    "\n",
    "#     return LOSS, VAL_LOSS\n",
    "\n",
    "# train_loss, val_loss = trainModel(model, srcTrain,tgtTrain, srcValid, tgtValid,epochs=10)"
   ]
  }
 ],
 "metadata": {
  "kernelspec": {
   "display_name": "Python 3",
   "language": "python",
   "name": "python3"
  },
  "language_info": {
   "codemirror_mode": {
    "name": "ipython",
    "version": 3
   },
   "file_extension": ".py",
   "mimetype": "text/x-python",
   "name": "python",
   "nbconvert_exporter": "python",
   "pygments_lexer": "ipython3",
<<<<<<< HEAD
   "version": "3.11.1"
=======
   "version": "0.0.0"
>>>>>>> 2e07ef1ef (feat: adding new training data)
  }
 },
 "nbformat": 4,
 "nbformat_minor": 2
}
