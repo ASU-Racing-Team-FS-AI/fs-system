{
 "cells": [
  {
   "cell_type": "code",
   "execution_count": 37,
   "metadata": {},
   "outputs": [],
   "source": [
    "import torch\n",
    "import torch.nn as nn\n",
    "from typing import Optional\n",
    "import matplotlib.pyplot as plt"
   ]
  },
  {
   "cell_type": "code",
   "execution_count": 38,
   "metadata": {},
   "outputs": [],
   "source": [
    "class MyPlannerTransformer(nn.Module):\n",
    "    def __init__(self, num_features=6, numOfEncoderLayers = 6, numOfDecoderLayers=6) -> None:\n",
    "        super().__init__()\n",
    "        self.transformer_model = nn.Transformer(\n",
    "            d_model=num_features,\n",
    "            nhead=1,\n",
    "            num_encoder_layers=numOfEncoderLayers,\n",
    "            num_decoder_layers=numOfDecoderLayers,\n",
    "            dim_feedforward=2048,\n",
    "            dropout=0.1,\n",
    "        )\n",
    "        # map tgt to have the same number of features as src\n",
    "        self.tgt = nn.Linear(2, num_features)\n",
    "\n",
    "    def forward(\n",
    "        self,\n",
    "        src: torch.tensor,\n",
    "        tgt: torch.tensor,\n",
    "        src_mask: Optional[torch.tensor]=None,\n",
    "        tgt_mask: Optional[torch.tensor]=None,\n",
    "        memory_mask: Optional[torch.tensor]=None,\n",
    "        src_key_padding_mask: Optional[torch.tensor]=None,\n",
    "        tgt_key_padding_mask: Optional[torch.tensor]=None,\n",
    "        memory_key_padding_mask: Optional[torch.tensor]=None,\n",
    "        max_len: Optional[int]=None,\n",
    "        \n",
    "    )->torch.tensor:\n",
    "        tgt = self.tgt(tgt)\n",
    "        out = self.transformer_model(src, tgt)\n",
    "        return out[:,:2]\n",
    "    \n",
    "    def predict(self, src: torch.tensor, tgt: torch.tensor, max_len: Optional[int]=None)->torch.tensor:\n",
    "        self.eval()\n",
    "        with torch.no_grad():\n",
    "            prediction = self.forward(src, tgt)\n",
    "        return prediction\n",
    "    \n",
    "    "
   ]
  },
  {
   "cell_type": "code",
   "execution_count": 39,
   "metadata": {},
   "outputs": [],
   "source": [
    "#batch_size = 10\n",
    "src = torch.load('../inputs/tensors/src.pt')\n",
    "tgt = torch.load('../inputs/tensors/tgt.pt')"
   ]
  },
  {
   "cell_type": "code",
   "execution_count": 40,
   "metadata": {},
   "outputs": [
    {
     "data": {
      "text/plain": [
       "(torch.Size([694, 5]), torch.Size([356, 2]))"
      ]
     },
     "execution_count": 40,
     "metadata": {},
     "output_type": "execute_result"
    }
   ],
   "source": [
    "src.shape, tgt.shape"
   ]
  },
  {
   "cell_type": "code",
   "execution_count": 41,
   "metadata": {},
   "outputs": [],
   "source": [
    "model = MyPlannerTransformer(num_features=5)\n",
    "#model.forward(src, tgt).shape"
   ]
  },
  {
   "cell_type": "code",
   "execution_count": 42,
   "metadata": {},
   "outputs": [],
   "source": [
    "#model(src, tgt)"
   ]
  },
  {
   "cell_type": "code",
   "execution_count": 43,
   "metadata": {},
   "outputs": [],
   "source": [
    "# import torch data loader\n",
    "from torch.utils.data import DataLoader\n",
    "\n",
    "src_train_loader = DataLoader(src, batch_size=10, shuffle=True)\n",
    "tgt_train_loader = DataLoader(tgt, batch_size=10, shuffle=True)\n"
   ]
  },
  {
   "cell_type": "code",
   "execution_count": 44,
   "metadata": {},
   "outputs": [
    {
     "name": "stdout",
     "output_type": "stream",
     "text": [
      "Epoch: 1, Total Loss: 514.3170907156808\n",
      "Epoch: 2, Total Loss: 503.54964425223216\n",
      "Epoch: 3, Total Loss: 506.97543160574776\n",
      "Epoch: 4, Total Loss: 503.28922206333704\n",
      "Epoch: 5, Total Loss: 497.2796273367746\n",
      "Epoch: 6, Total Loss: 496.37208775111606\n",
      "Epoch: 7, Total Loss: 488.83615155901225\n",
      "Epoch: 8, Total Loss: 489.00770307268414\n",
      "Epoch: 9, Total Loss: 489.57657209123886\n",
      "Epoch: 10, Total Loss: 482.95596662248886\n",
      "Epoch: 11, Total Loss: 483.76427873883927\n",
      "Epoch: 12, Total Loss: 480.0649640764509\n",
      "Epoch: 13, Total Loss: 479.4048156738281\n",
      "Epoch: 14, Total Loss: 477.0506958007812\n",
      "Epoch: 15, Total Loss: 479.7829262869699\n",
      "Epoch: 16, Total Loss: 476.7278782435826\n",
      "Epoch: 17, Total Loss: 473.5440691266741\n",
      "Epoch: 18, Total Loss: 470.0486572265625\n",
      "Epoch: 19, Total Loss: 469.3988830566406\n",
      "Epoch: 20, Total Loss: 467.7588178362165\n",
      "Epoch: 21, Total Loss: 468.6115012032645\n",
      "Epoch: 22, Total Loss: 464.8545187813895\n",
      "Epoch: 23, Total Loss: 465.56981593540735\n",
      "Epoch: 24, Total Loss: 461.2034441266741\n",
      "Epoch: 25, Total Loss: 463.06375558035717\n",
      "Epoch: 26, Total Loss: 461.4339460100446\n",
      "Epoch: 27, Total Loss: 454.5514434814453\n",
      "Epoch: 28, Total Loss: 457.4061558314732\n",
      "Epoch: 29, Total Loss: 456.34027884347097\n",
      "Epoch: 30, Total Loss: 454.91457999093194\n",
      "Epoch: 31, Total Loss: 451.69696829659597\n",
      "Epoch: 32, Total Loss: 451.5143777029855\n",
      "Epoch: 33, Total Loss: 448.4713065011161\n",
      "Epoch: 34, Total Loss: 448.5440617152623\n",
      "Epoch: 35, Total Loss: 447.77793579101564\n",
      "Epoch: 36, Total Loss: 445.90986328125\n",
      "Epoch: 37, Total Loss: 447.92489536830357\n",
      "Epoch: 38, Total Loss: 446.77925851004466\n",
      "Epoch: 39, Total Loss: 443.2625287737165\n",
      "Epoch: 40, Total Loss: 438.45472848074775\n",
      "Epoch: 41, Total Loss: 441.5643585205078\n",
      "Epoch: 42, Total Loss: 437.4679382324219\n",
      "Epoch: 43, Total Loss: 438.11680821010043\n",
      "Epoch: 44, Total Loss: 432.81286969866073\n",
      "Epoch: 45, Total Loss: 434.71697910853794\n",
      "Epoch: 46, Total Loss: 431.5711722237723\n",
      "Epoch: 47, Total Loss: 427.64779227120533\n",
      "Epoch: 48, Total Loss: 427.8135620117188\n",
      "Epoch: 49, Total Loss: 426.08008771623884\n",
      "Epoch: 50, Total Loss: 426.09429234095984\n"
     ]
    }
   ],
   "source": [
    "def trainModel(model, src_loader, tgt_loader, epochs=10):\n",
    "    optimizer = torch.optim.Adam(model.parameters(), lr=0.001)\n",
    "    criterion = nn.MSELoss()\n",
    "    LOSS = []\n",
    "    for epoch in range(epochs):\n",
    "        COST = 0\n",
    "        for src_batch, tgt_batch in zip(src_loader, tgt_loader):\n",
    "            optimizer.zero_grad()\n",
    "            prediction = model(src_batch, tgt_batch)\n",
    "            loss = criterion(prediction, tgt_batch)\n",
    "            loss.backward()\n",
    "            COST += loss.item()\n",
    "            optimizer.step()\n",
    "        avg_loss = COST / len(src_loader)\n",
    "        LOSS.append(avg_loss)\n",
    "        print(f'Epoch: {epoch+1}, Total Loss: {avg_loss}')\n",
    "    return LOSS\n",
    "\n",
    "train_loss =trainModel(model, src_train_loader, tgt_train_loader, epochs=50)"
   ]
  },
  {
   "cell_type": "code",
   "execution_count": 45,
   "metadata": {},
   "outputs": [
    {
     "data": {
      "image/png": "[encoded data removed]",
      "text/plain": [
       "<Figure size 640x480 with 1 Axes>"
      ]
     },
     "metadata": {},
     "output_type": "display_data"
    }
   ],
   "source": [
    "plt.plot(train_loss)\n",
    "plt.xlabel('Epochs')\n",
    "plt.ylabel('Loss')\n",
    "plt.title('Training Loss')\n",
    "plt.show()"
   ]
  },
  {
   "cell_type": "code",
   "execution_count": 46,
   "metadata": {},
   "outputs": [],
   "source": [
    "# save model\n",
    "torch.save(model.state_dict(), 'model.pth')"
   ]
  },
  {
   "cell_type": "code",
   "execution_count": 47,
   "metadata": {},
   "outputs": [
    {
     "data": {
      "text/plain": [
       "<All keys matched successfully>"
      ]
     },
     "execution_count": 47,
     "metadata": {},
     "output_type": "execute_result"
    }
   ],
   "source": [
    "# load model\n",
    "model.load_state_dict(torch.load('model.pth'))"
   ]
  },
  {
   "cell_type": "code",
   "execution_count": 48,
   "metadata": {},
   "outputs": [],
   "source": [
    "# predict\n",
    "yhat = model.predict(src, tgt)"
   ]
  }
 ],
 "metadata": {
  "kernelspec": {
   "display_name": "Python 3",
   "language": "python",
   "name": "python3"
  },
  "language_info": {
   "codemirror_mode": {
    "name": "ipython",
    "version": 3
   },
   "file_extension": ".py",
   "mimetype": "text/x-python",
   "name": "python",
   "nbconvert_exporter": "python",
   "pygments_lexer": "ipython3",
   "version": "3.10.9"
  }
 },
 "nbformat": 4,
 "nbformat_minor": 2
}
