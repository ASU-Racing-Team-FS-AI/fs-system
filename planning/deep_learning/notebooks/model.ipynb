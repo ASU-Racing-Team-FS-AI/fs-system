{
 "cells": [
  {
   "cell_type": "code",
   "execution_count": 145,
   "metadata": {},
   "outputs": [],
   "source": [
    "import torch\n",
    "import torch.nn as nn\n",
    "from typing import Optional\n",
    "import matplotlib.pyplot as plt"
   ]
  },
  {
   "cell_type": "code",
   "execution_count": 146,
   "metadata": {},
   "outputs": [],
   "source": [
    "class MyPlannerTransformer(nn.Module):\n",
    "    def __init__(self, num_features=6, numOfEncoderLayers = 6, numOfDecoderLayers=6) -> None:\n",
    "        super().__init__()\n",
    "        self.transformer_model = nn.Transformer(\n",
    "            d_model=num_features,\n",
    "            nhead=1,\n",
    "            num_encoder_layers=numOfEncoderLayers,\n",
    "            num_decoder_layers=numOfDecoderLayers,\n",
    "            dim_feedforward=2048,\n",
    "            dropout=0.1,\n",
    "        )\n",
    "        # map tgt to have the same number of features as src\n",
    "        self.tgt = nn.Linear(2, num_features)\n",
    "\n",
    "    def forward(\n",
    "        self,\n",
    "        src: torch.tensor,\n",
    "        tgt: torch.tensor,\n",
    "        src_mask: Optional[torch.tensor]=None,\n",
    "        tgt_mask: Optional[torch.tensor]=None,\n",
    "        memory_mask: Optional[torch.tensor]=None,\n",
    "        src_key_padding_mask: Optional[torch.tensor]=None,\n",
    "        tgt_key_padding_mask: Optional[torch.tensor]=None,\n",
    "        memory_key_padding_mask: Optional[torch.tensor]=None,\n",
    "        max_len: Optional[int]=None,\n",
    "        \n",
    "    )->torch.tensor:\n",
    "        tgt = self.tgt(tgt)\n",
    "        out = self.transformer_model(src, tgt)\n",
    "        return out[:,:2]\n",
    "    \n",
    "    def predict(self, src: torch.tensor, tgt: torch.tensor, max_len: Optional[int]=None)->torch.tensor:\n",
    "        self.eval()\n",
    "        with torch.no_grad():\n",
    "            prediction = self.forward(src, tgt)\n",
    "        return prediction\n",
    "    \n",
    "    "
   ]
  },
  {
   "cell_type": "code",
   "execution_count": 147,
   "metadata": {},
   "outputs": [],
   "source": [
    "#batch_size = 10\n",
    "src = torch.load('../inputs/tensors/src.pt')\n",
    "tgt = torch.load('../inputs/tensors/tgt.pt')"
   ]
  },
  {
   "cell_type": "code",
   "execution_count": 148,
   "metadata": {},
   "outputs": [
    {
     "data": {
      "text/plain": [
       "(torch.Size([694, 5]), torch.Size([338, 2]))"
      ]
     },
     "execution_count": 148,
     "metadata": {},
     "output_type": "execute_result"
    }
   ],
   "source": [
    "src.shape, tgt.shape"
   ]
  },
  {
   "cell_type": "code",
   "execution_count": 149,
   "metadata": {},
   "outputs": [],
   "source": [
    "model = MyPlannerTransformer(num_features=5)\n",
    "#model.forward(src, tgt).shape"
   ]
  },
  {
   "cell_type": "code",
   "execution_count": 150,
   "metadata": {},
   "outputs": [],
   "source": [
    "#model(src, tgt)"
   ]
  },
  {
   "cell_type": "code",
   "execution_count": 151,
   "metadata": {},
   "outputs": [],
   "source": [
    "# import torch data loader\n",
    "from torch.utils.data import DataLoader\n",
    "\n",
    "src_train_loader = DataLoader(src, batch_size=10, shuffle=True)\n",
    "tgt_train_loader = DataLoader(tgt, batch_size=10, shuffle=True)\n"
   ]
  },
  {
   "cell_type": "code",
   "execution_count": 152,
   "metadata": {},
   "outputs": [
    {
     "name": "stdout",
     "output_type": "stream",
     "text": [
      "Epoch: 1, Total Loss: 520.1369389125279\n",
      "Epoch: 2, Total Loss: 521.6396362304688\n",
      "Epoch: 3, Total Loss: 518.534468296596\n",
      "Epoch: 4, Total Loss: 506.76477486746654\n",
      "Epoch: 5, Total Loss: 488.06988438197544\n",
      "Epoch: 6, Total Loss: 495.82045026506694\n",
      "Epoch: 7, Total Loss: 483.2898733956473\n",
      "Epoch: 8, Total Loss: 479.95998142787386\n",
      "Epoch: 9, Total Loss: 479.592240687779\n",
      "Epoch: 10, Total Loss: 477.8157810756138\n"
     ]
    }
   ],
   "source": [
    "def train_model(model, src_loader, tgt_loader, epochs=10):\n",
    "    optimizer = torch.optim.Adam(model.parameters(), lr=0.001)\n",
    "    criterion = nn.MSELoss()\n",
    "    LOSS = []\n",
    "    for epoch in range(epochs):\n",
    "        COST = 0\n",
    "        for src_batch, tgt_batch in zip(src_loader, tgt_loader):\n",
    "            optimizer.zero_grad()\n",
    "            prediction = model(src_batch, tgt_batch)\n",
    "            loss = criterion(prediction, tgt_batch)\n",
    "            loss.backward()\n",
    "            COST += loss.item()\n",
    "            optimizer.step()\n",
    "        avg_loss = COST / len(src_loader)\n",
    "        LOSS.append(avg_loss)\n",
    "        print(f'Epoch: {epoch+1}, Total Loss: {avg_loss}')\n",
    "    return LOSS\n",
    "\n",
    "train_loss =train_model(model, src_train_loader, tgt_train_loader, epochs=10)"
   ]
  },
  {
   "cell_type": "code",
   "execution_count": 153,
   "metadata": {},
   "outputs": [
    {
     "data": {
      "image/png": "[encoded data removed]",
      "text/plain": [
       "<Figure size 640x480 with 1 Axes>"
      ]
     },
     "metadata": {},
     "output_type": "display_data"
    }
   ],
   "source": [
    "plt.plot(train_loss)\n",
    "plt.xlabel('Epochs')\n",
    "plt.ylabel('Loss')\n",
    "plt.title('Training Loss')\n",
    "plt.show()"
   ]
  },
  {
   "cell_type": "code",
   "execution_count": 154,
   "metadata": {},
   "outputs": [],
   "source": [
    "# save model\n",
    "torch.save(model.state_dict(), 'model.pth')"
   ]
  },
  {
   "cell_type": "code",
   "execution_count": 155,
   "metadata": {},
   "outputs": [
    {
     "data": {
      "text/plain": [
       "<All keys matched successfully>"
      ]
     },
     "execution_count": 155,
     "metadata": {},
     "output_type": "execute_result"
    }
   ],
   "source": [
    "# load model\n",
    "model.load_state_dict(torch.load('model.pth'))"
   ]
  },
  {
   "cell_type": "code",
   "execution_count": 156,
   "metadata": {},
   "outputs": [],
   "source": [
    "# predict\n",
    "yhat = model.predict(src, tgt)"
   ]
  }
 ],
 "metadata": {
  "kernelspec": {
   "display_name": "Python 3",
   "language": "python",
   "name": "python3"
  },
  "language_info": {
   "codemirror_mode": {
    "name": "ipython",
    "version": 3
   },
   "file_extension": ".py",
   "mimetype": "text/x-python",
   "name": "python",
   "nbconvert_exporter": "python",
   "pygments_lexer": "ipython3",
   "version": "3.11.1"
  }
 },
 "nbformat": 4,
 "nbformat_minor": 2
}
