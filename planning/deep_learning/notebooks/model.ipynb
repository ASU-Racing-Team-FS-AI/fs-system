{
 "cells": [
  {
   "cell_type": "code",
   "execution_count": 1,
   "metadata": {},
   "outputs": [],
   "source": [
    "import torch\n",
    "import torch.nn as nn\n",
    "from typing import Optional\n",
    "import matplotlib.pyplot as plt\n",
    "from torch.utils.data import DataLoader\n",
    "import os"
   ]
  },
  {
   "cell_type": "code",
   "execution_count": 2,
   "metadata": {},
   "outputs": [],
   "source": [
    "seed = 42\n",
    "torch.manual_seed(seed)\n",
    "torch.cuda.manual_seed(seed)"
   ]
  },
  {
   "cell_type": "code",
   "execution_count": 3,
   "metadata": {},
   "outputs": [],
   "source": [
    "device = torch.device(\"cuda\")"
   ]
  },
  {
   "cell_type": "code",
   "execution_count": 4,
   "metadata": {},
   "outputs": [],
   "source": [
    "def plotLoss(loss: list, type: str) -> None:\n",
    "        \n",
    "        \"\"\"\n",
    "        plotLoss is a function that plots the loss of the model\n",
    "\n",
    "        Args:\n",
    "            loss (list): it takes a list of loss\n",
    "            type (str): it takes a string of the type of loss\n",
    "        \"\"\"        \n",
    "        \n",
    "        plt.plot(loss)\n",
    "        plt.xlabel('Epoch')\n",
    "        plt.ylabel('Loss')\n",
    "        plt.title(f'{type} Loss')\n",
    "        plt.show()"
   ]
  },
  {
   "cell_type": "code",
   "execution_count": 5,
   "metadata": {},
   "outputs": [],
   "source": [
    "class MyPlannerTransformer(nn.Module):\n",
    "    \n",
    "    def __init__(self, d_model=16,nhead = 2,num_encoder_layers = 2, num_decoder_layers=2, dropout = 0.1, dim_feedforward = 2048) -> None:\n",
    "        super().__init__()\n",
    "        self.transformer = nn.Transformer(\n",
    "            d_model,\n",
    "            nhead,\n",
    "            num_encoder_layers,\n",
    "            num_decoder_layers,\n",
    "            dim_feedforward,\n",
    "            dropout,\n",
    "            batch_first=True\n",
    "        )\n",
    "        # map tgt to have the same number of features as src\n",
    "        self.input = nn.Linear(5, d_model)\n",
    "        self.tgt = nn.Linear(2, d_model)\n",
    "        self.output = nn.Linear(d_model, 2)\n",
    "\n",
    "    def forward(\n",
    "        self,\n",
    "        src: torch.tensor,\n",
    "        tgt: torch.tensor,\n",
    "        src_mask: Optional[torch.tensor]=None,\n",
    "        tgt_mask: Optional[torch.tensor]=None,\n",
    "        memory_mask: Optional[torch.tensor]=None,\n",
    "        src_key_padding_mask: Optional[torch.tensor]=None,\n",
    "        tgt_key_padding_mask: Optional[torch.tensor]=None,\n",
    "        memory_key_padding_mask: Optional[torch.tensor]=None,\n",
    "        max_len: Optional[int]=None,\n",
    "        \n",
    "    )->torch.tensor:\n",
    "        src = self.input(src)\n",
    "        tgt = self.tgt(tgt)\n",
    "        out = self.transformer(src, tgt)\n",
    "        out = out[:,:,:2]\n",
    "        return out\n",
    "    \n",
    "    \n",
    "    def predict(self, src: torch.tensor, tgt: Optional[torch.tensor] = None) -> torch.tensor:\n",
    "        \n",
    "        \"\"\"\n",
    "        predict v3 is a function that uses the transformer model to predict the next waypoints\n",
    "        it works by auto-regressive property of the transformer model\n",
    "        this function is used to predict the entire sequence at once\n",
    "        \n",
    "        Args:\n",
    "            src (torch.tensor):\n",
    "            \n",
    "            takes a tensor of shape (sequence, 5)\n",
    "            in our case sequence is 10 and 5 is the number of features\n",
    "            \n",
    "        Returns:\n",
    "            torch.tensor:\n",
    "            \n",
    "            tgt tensor of shape (outputSequence, 2)\n",
    "            outputSequence is the number of waypoints to predict\n",
    "            2 is the number of features\n",
    "        \"\"\"\n",
    "        \n",
    "        self.eval()\n",
    "        src = src.reshape(-1, 10, 5)\n",
    "        if tgt is None:\n",
    "            tgt = torch.zeros((1, 1, 2)).cuda()\n",
    "        with torch.no_grad():\n",
    "                for _ in range(4):\n",
    "                    prediction = self.forward(src, tgt)\n",
    "                    tgt = torch.cat((tgt, prediction[:,-1:]), dim=1)\n",
    "\n",
    "        return tgt.reshape(-1,2)\n",
    "    \n",
    "        \n",
    "    \n",
    "    def trainModel(self,model, trainLoader, validLoader,epochs = 10):\n",
    "        \n",
    "        criterion = nn.MSELoss()\n",
    "        optimizer = torch.optim.Adam(model.parameters(), lr=0.001)\n",
    "\n",
    "        # Training loop\n",
    "        VAL_LOSS = []\n",
    "        TRAIN_LOSS = []\n",
    "\n",
    "        for epoch in range(epochs):\n",
    "            model.train()\n",
    "            total_loss = 0.0\n",
    "\n",
    "            for batch_idx, (src, tgt) in enumerate(trainLoader):\n",
    "               \n",
    "\n",
    "                optimizer.zero_grad()\n",
    "                output = model(src, tgt[:, :-1, :])  # Use teacher forcing for training\n",
    "\n",
    "                # Flatten the output and target for computing the loss\n",
    "                loss = criterion(output.view(-1, 2), tgt[:, 1:, :].contiguous().view(-1, 2))\n",
    "                loss.backward()\n",
    "                optimizer.step()\n",
    "\n",
    "                total_loss += loss.item()\n",
    "\n",
    "            average_loss = total_loss / len(trainLoader)\n",
    "            print(f\"Epoch [{epoch + 1}/{epochs}], Loss: {average_loss:.4f}\")\n",
    "            TRAIN_LOSS.append(average_loss)\n",
    "\n",
    "            #Validation Remember to uncomment \n",
    "            model.eval()\n",
    "            with torch.no_grad():\n",
    "                val_loss = 0.0\n",
    "                for val_src, val_tgt in validLoader:\n",
    "                    \n",
    "                    val_output = model(val_src, val_tgt[:, :-1, :])  # No teacher forcing for validation\n",
    "                    val_loss += criterion(val_output.view(-1, 2), val_tgt[:, 1:, :].contiguous().view(-1, 2)).item()\n",
    "\n",
    "            average_val_loss = val_loss / len(validLoader)\n",
    "            print(f\"Validation Loss: {average_val_loss:.4f}\")\n",
    "            VAL_LOSS.append(average_val_loss)\n",
    "            \n",
    "\n",
    "        return TRAIN_LOSS, VAL_LOSS\n",
    "    \n",
    "\n",
    "        \n",
    "    "
   ]
  },
  {
   "cell_type": "code",
   "execution_count": 6,
   "metadata": {},
   "outputs": [],
   "source": [
    "def createModel(path: str) -> MyPlannerTransformer:\n",
    "    \"\"\"\n",
    "    Create a planning model from a saved state dict\n",
    "\n",
    "    Parameters\n",
    "    ----------\n",
    "    path : str\n",
    "        Path to the saved state dict\n",
    "\n",
    "    Returns\n",
    "    -------\n",
    "    MyPlannerTransformer\n",
    "        Planning model with the saved state dict loaded\n",
    "    \"\"\"\n",
    "    model = MyPlannerTransformer()\n",
    "    model.load_state_dict(torch.load(path))\n",
    "    model.cuda()\n",
    "    return model"
   ]
  },
  {
   "cell_type": "code",
   "execution_count": 7,
   "metadata": {},
   "outputs": [],
   "source": [
    "class DataSet1():\n",
    "    \n",
    "    def __init__(self,) -> None:\n",
    "        pass\n",
    "\n",
    "    \n",
    "    def __loadData(self,dir: str) -> torch.tensor: \n",
    "        data = torch.load(dir).cuda()\n",
    "        return data\n",
    "    \n",
    "    def prepareData(self,trainDir: str, validDir) -> torch.tensor:\n",
    "        srcTrain = self.__loadData(f'{trainDir}/src_train.pt')\n",
    "        tgtTrain = self.__loadData(f'{trainDir}/tgt_train.pt')\n",
    "        srcValid = self.__loadData(f'{validDir}/src_valid.pt')\n",
    "        tgtValid = self.__loadData(f'{validDir}/tgt_valid.pt')\n",
    "        \n",
    "        srcSeqLength = 10\n",
    "        srcNumOfSequencesTrain = srcTrain.size(0) // srcSeqLength\n",
    "        tgtSeqLength = 4\n",
    "        tgtNumOfSequencesTrain = tgtTrain.size(0) // tgtSeqLength\n",
    "        srcNumOfSequencesValid = srcValid.size(0) // srcSeqLength\n",
    "        tgtNumOfSequencesValid = tgtValid.size(0) // tgtSeqLength\n",
    "        # reshape the tensors\n",
    "        srcTrain = srcTrain[:srcNumOfSequencesTrain * srcSeqLength, :].view(srcNumOfSequencesTrain, srcSeqLength, -1).cuda()\n",
    "        tgtTrain = tgtTrain[:tgtNumOfSequencesTrain * tgtSeqLength, :].view(tgtNumOfSequencesTrain, tgtSeqLength, -1).cuda()\n",
    "        srcValid = srcValid[:srcNumOfSequencesValid * srcSeqLength, :].view(srcNumOfSequencesValid, srcSeqLength, -1).cuda()\n",
    "        tgtValid = tgtValid[:tgtNumOfSequencesValid * tgtSeqLength, :].view(tgtNumOfSequencesValid, tgtSeqLength, -1).cuda()\n",
    "        \n",
    "        return srcTrain, tgtTrain, srcValid, tgtValid"
   ]
  },
  {
   "cell_type": "code",
   "execution_count": 8,
   "metadata": {},
   "outputs": [],
   "source": [
    "class DataSet2():\n",
    "    \n",
    "    def __init__(self) -> None:\n",
    "        pass\n",
    "    \n",
    "    def prepareData(self, srcPath, tgtPath):\n",
    "        srcTrain = torch.empty(0, 5).cuda()\n",
    "        tgtTrain = torch.empty(0, 2).cuda()\n",
    "        srcValid = torch.empty(0, 5).cuda()\n",
    "        tgtValid = torch.empty(0, 2).cuda()\n",
    "        for files in os.listdir(srcPath+\"train\"):\n",
    "            srcTrain = torch.cat((srcTrain, torch.load(f'{srcPath+\"train\"}/{files}').cuda())).cuda()\n",
    "\n",
    "        for files in os.listdir(tgtPath+\"train\"):\n",
    "            tgtTrain = torch.cat((tgtTrain, torch.load(f'{tgtPath+\"train\"}/{files}').cuda())).cuda()\n",
    "        \n",
    "        for files in os.listdir(srcPath+\"valid\"):\n",
    "            srcValid = torch.cat((srcValid, torch.load(f'{srcPath+\"valid\"}/{files}').cuda())).cuda()\n",
    "        \n",
    "        for files in os.listdir(tgtPath+\"valid\"):\n",
    "            tgtValid = torch.cat((tgtValid, torch.load(f'{tgtPath+\"valid\"}/{files}').cuda())).cuda()\n",
    "                  \n",
    "        srcSeqLength = 10\n",
    "        srcNumOfSequencesTrain = srcTrain.size(0) // srcSeqLength\n",
    "        tgtSeqLength = 4\n",
    "        tgtNumOfSequencesTrain = tgtTrain.size(0) // tgtSeqLength\n",
    "        srcNumOfSequencesValid = srcValid.size(0) // srcSeqLength\n",
    "        tgtNumOfSequencesValid = tgtValid.size(0) // tgtSeqLength\n",
    "        # reshape the tensors\n",
    "        srcTrain = srcTrain[:srcNumOfSequencesTrain * srcSeqLength, :].view(srcNumOfSequencesTrain, srcSeqLength, -1).cuda()\n",
    "        tgtTrain = tgtTrain[:tgtNumOfSequencesTrain * tgtSeqLength, :].view(tgtNumOfSequencesTrain, tgtSeqLength, -1).cuda()\n",
    "        srcValid = srcValid[:srcNumOfSequencesValid * srcSeqLength, :].view(srcNumOfSequencesValid, srcSeqLength, -1).cuda()\n",
    "        tgtValid = tgtValid[:tgtNumOfSequencesValid * tgtSeqLength, :].view(tgtNumOfSequencesValid, tgtSeqLength, -1).cuda()\n",
    "    \n",
    "        return srcTrain, tgtTrain, srcValid, tgtValid"
   ]
  },
  {
   "cell_type": "code",
   "execution_count": 9,
   "metadata": {},
   "outputs": [],
   "source": [
    "data1 = DataSet1()"
   ]
  },
  {
   "cell_type": "code",
   "execution_count": 10,
   "metadata": {},
   "outputs": [],
   "source": [
    "data2 = DataSet2()"
   ]
  },
  {
   "cell_type": "code",
   "execution_count": 11,
   "metadata": {},
   "outputs": [],
   "source": [
    "src_path = \"../inputs/tensorsV2/inputs/\"  # Replace with the path to your directory\n",
    "tgt_path = \"../inputs/tensorsV2/outputs/\""
   ]
  },
  {
   "cell_type": "code",
   "execution_count": 12,
   "metadata": {},
   "outputs": [],
   "source": [
    "# srcTrain, tgtTrain, srcValid, tgtValid = data1.prepareData('../inputs/tensors/train', '../inputs/tensors/valid')"
   ]
  },
  {
   "cell_type": "code",
   "execution_count": 13,
   "metadata": {},
   "outputs": [],
   "source": [
    "srcTrain, tgtTrain, srcValid, tgtValid = data2.prepareData(src_path, tgt_path)"
   ]
  },
  {
   "cell_type": "code",
   "execution_count": 14,
   "metadata": {},
   "outputs": [],
   "source": [
    "trainData = list(zip(srcTrain, tgtTrain))\n",
    "validData = list(zip(srcValid, tgtValid))\n",
    "\n",
    "trainLoader = DataLoader(trainData, batch_size=100, shuffle=True)\n",
    "validLoader = DataLoader(validData, batch_size=100, shuffle=True)"
   ]
  },
  {
   "cell_type": "code",
   "execution_count": 15,
   "metadata": {},
   "outputs": [
    {
     "data": {
      "text/plain": [
       "51112"
      ]
     },
     "execution_count": 15,
     "metadata": {},
     "output_type": "execute_result"
    }
   ],
   "source": [
    "len(trainLoader.dataset)"
   ]
  },
  {
   "cell_type": "code",
   "execution_count": 16,
   "metadata": {},
   "outputs": [],
   "source": [
    "model = MyPlannerTransformer()"
   ]
  },
  {
   "cell_type": "code",
   "execution_count": 17,
   "metadata": {},
   "outputs": [
    {
     "data": {
      "text/plain": [
       "MyPlannerTransformer(\n",
       "  (transformer): Transformer(\n",
       "    (encoder): TransformerEncoder(\n",
       "      (layers): ModuleList(\n",
       "        (0-1): 2 x TransformerEncoderLayer(\n",
       "          (self_attn): MultiheadAttention(\n",
       "            (out_proj): NonDynamicallyQuantizableLinear(in_features=16, out_features=16, bias=True)\n",
       "          )\n",
       "          (linear1): Linear(in_features=16, out_features=2048, bias=True)\n",
       "          (dropout): Dropout(p=0.1, inplace=False)\n",
       "          (linear2): Linear(in_features=2048, out_features=16, bias=True)\n",
       "          (norm1): LayerNorm((16,), eps=1e-05, elementwise_affine=True)\n",
       "          (norm2): LayerNorm((16,), eps=1e-05, elementwise_affine=True)\n",
       "          (dropout1): Dropout(p=0.1, inplace=False)\n",
       "          (dropout2): Dropout(p=0.1, inplace=False)\n",
       "        )\n",
       "      )\n",
       "      (norm): LayerNorm((16,), eps=1e-05, elementwise_affine=True)\n",
       "    )\n",
       "    (decoder): TransformerDecoder(\n",
       "      (layers): ModuleList(\n",
       "        (0-1): 2 x TransformerDecoderLayer(\n",
       "          (self_attn): MultiheadAttention(\n",
       "            (out_proj): NonDynamicallyQuantizableLinear(in_features=16, out_features=16, bias=True)\n",
       "          )\n",
       "          (multihead_attn): MultiheadAttention(\n",
       "            (out_proj): NonDynamicallyQuantizableLinear(in_features=16, out_features=16, bias=True)\n",
       "          )\n",
       "          (linear1): Linear(in_features=16, out_features=2048, bias=True)\n",
       "          (dropout): Dropout(p=0.1, inplace=False)\n",
       "          (linear2): Linear(in_features=2048, out_features=16, bias=True)\n",
       "          (norm1): LayerNorm((16,), eps=1e-05, elementwise_affine=True)\n",
       "          (norm2): LayerNorm((16,), eps=1e-05, elementwise_affine=True)\n",
       "          (norm3): LayerNorm((16,), eps=1e-05, elementwise_affine=True)\n",
       "          (dropout1): Dropout(p=0.1, inplace=False)\n",
       "          (dropout2): Dropout(p=0.1, inplace=False)\n",
       "          (dropout3): Dropout(p=0.1, inplace=False)\n",
       "        )\n",
       "      )\n",
       "      (norm): LayerNorm((16,), eps=1e-05, elementwise_affine=True)\n",
       "    )\n",
       "  )\n",
       "  (input): Linear(in_features=5, out_features=16, bias=True)\n",
       "  (tgt): Linear(in_features=2, out_features=16, bias=True)\n",
       "  (output): Linear(in_features=16, out_features=2, bias=True)\n",
       ")"
      ]
     },
     "execution_count": 17,
     "metadata": {},
     "output_type": "execute_result"
    }
   ],
   "source": [
    "model.to(device)"
   ]
  },
  {
   "cell_type": "code",
   "execution_count": 18,
   "metadata": {},
   "outputs": [
    {
     "name": "stdout",
     "output_type": "stream",
     "text": [
      "Epoch [1/3], Loss: 920.5709\n",
      "Validation Loss: 849.4373\n",
      "Epoch [2/3], Loss: 842.4127\n",
      "Validation Loss: 777.4479\n",
      "Epoch [3/3], Loss: 773.2464\n",
      "Validation Loss: 710.2129\n"
     ]
    }
   ],
   "source": [
    "train_loss, val_loss =  model.trainModel(model, trainLoader,validLoader, epochs=3)"
   ]
  },
  {
   "cell_type": "code",
   "execution_count": 25,
   "metadata": {},
   "outputs": [
    {
     "data": {
      "image/png": "[encoded data removed]",
      "text/plain": [
       "<Figure size 640x480 with 1 Axes>"
      ]
     },
     "metadata": {},
     "output_type": "display_data"
    },
    {
     "data": {
      "image/png": "[encoded data removed]",
      "text/plain": [
       "<Figure size 640x480 with 1 Axes>"
      ]
     },
     "metadata": {},
     "output_type": "display_data"
    }
   ],
   "source": [
    "plotLoss(train_loss, 'Training')\n",
    "plotLoss(val_loss, 'Validation')"
   ]
  },
  {
   "cell_type": "code",
   "execution_count": 20,
   "metadata": {},
   "outputs": [],
   "source": [
    "torch.save(model.state_dict(), '../notebooks/myPlannerTransformer.pt')\n",
    "\n",
    "model.load_state_dict(torch.load('../notebooks/myPlannerTransformer.pt'))\n",
    "\n",
    "\n",
    "def pathPredict(model, src: torch.tensor,tgt: Optional[torch.tensor] = None):\n",
    "        \n",
    "    try:\n",
    "        last_prediction = torch.load('../notebooks/lastPredicitons.pt')\n",
    "        output = model.predict(src, last_prediction)\n",
    "        torch.save(output[-1].reshape(1,-1,2), '../notebooks/lastPredicitons.pt')\n",
    "        return output\n",
    "    except:\n",
    "        output = model.predict(src)\n",
    "        torch.save(output[-1].reshape(1,-1,2), '../notebooks/lastPredicitons.pt')\n",
    "        return output\n"
   ]
  },
  {
   "cell_type": "code",
   "execution_count": 21,
   "metadata": {},
   "outputs": [
    {
     "data": {
      "text/plain": [
       "tensor([[0.0000, 0.0000],\n",
       "        [0.2794, 0.2133],\n",
       "        [0.5125, 0.3810],\n",
       "        [0.7137, 0.5169],\n",
       "        [0.8898, 0.6278]], device='cuda:0')"
      ]
     },
     "execution_count": 21,
     "metadata": {},
     "output_type": "execute_result"
    }
   ],
   "source": [
    "pathPredict(model, srcTrain[4])"
   ]
  }
 ],
 "metadata": {
  "kernelspec": {
   "display_name": "Python 3",
   "language": "python",
   "name": "python3"
  },
  "language_info": {
   "codemirror_mode": {
    "name": "ipython",
    "version": 3
   },
   "file_extension": ".py",
   "mimetype": "text/x-python",
   "name": "python",
   "nbconvert_exporter": "python",
   "pygments_lexer": "ipython3",

   "version": "3.11.1"
  }
 },
 "nbformat": 4,
 "nbformat_minor": 2
}
