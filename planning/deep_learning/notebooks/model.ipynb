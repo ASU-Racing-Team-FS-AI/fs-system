{
 "cells": [
  {
   "cell_type": "code",
   "execution_count": 226,
   "metadata": {},
   "outputs": [],
   "source": [
    "import torch\n",
    "import torch.nn as nn\n",
    "from typing import Optional"
   ]
  },
  {
   "cell_type": "code",
   "execution_count": 8,
   "metadata": {},
   "outputs": [
    {
     "data": {
      "text/html": [
       "<div>\n",
       "<style scoped>\n",
       "    .dataframe tbody tr th:only-of-type {\n",
       "        vertical-align: middle;\n",
       "    }\n",
       "\n",
       "    .dataframe tbody tr th {\n",
       "        vertical-align: top;\n",
       "    }\n",
       "\n",
       "    .dataframe thead th {\n",
       "        text-align: right;\n",
       "    }\n",
       "</style>\n",
       "<table border=\"1\" class=\"dataframe\">\n",
       "  <thead>\n",
       "    <tr style=\"text-align: right;\">\n",
       "      <th></th>\n",
       "      <th>x</th>\n",
       "      <th>y</th>\n",
       "      <th>color</th>\n",
       "    </tr>\n",
       "  </thead>\n",
       "  <tbody>\n",
       "    <tr>\n",
       "      <th>0</th>\n",
       "      <td>-60.939023</td>\n",
       "      <td>4.612072</td>\n",
       "      <td>orange_big</td>\n",
       "    </tr>\n",
       "    <tr>\n",
       "      <th>1</th>\n",
       "      <td>-57.657950</td>\n",
       "      <td>5.865915</td>\n",
       "      <td>blue</td>\n",
       "    </tr>\n",
       "    <tr>\n",
       "      <th>2</th>\n",
       "      <td>-54.528351</td>\n",
       "      <td>7.486922</td>\n",
       "      <td>blue</td>\n",
       "    </tr>\n",
       "    <tr>\n",
       "      <th>3</th>\n",
       "      <td>-51.420276</td>\n",
       "      <td>9.949794</td>\n",
       "      <td>blue</td>\n",
       "    </tr>\n",
       "    <tr>\n",
       "      <th>4</th>\n",
       "      <td>-49.295484</td>\n",
       "      <td>13.150159</td>\n",
       "      <td>blue</td>\n",
       "    </tr>\n",
       "    <tr>\n",
       "      <th>...</th>\n",
       "      <td>...</td>\n",
       "      <td>...</td>\n",
       "      <td>...</td>\n",
       "    </tr>\n",
       "    <tr>\n",
       "      <th>213</th>\n",
       "      <td>-72.399930</td>\n",
       "      <td>-10.567747</td>\n",
       "      <td>yellow</td>\n",
       "    </tr>\n",
       "    <tr>\n",
       "      <th>214</th>\n",
       "      <td>-71.874985</td>\n",
       "      <td>-6.652903</td>\n",
       "      <td>yellow</td>\n",
       "    </tr>\n",
       "    <tr>\n",
       "      <th>215</th>\n",
       "      <td>-69.982935</td>\n",
       "      <td>-3.448590</td>\n",
       "      <td>yellow</td>\n",
       "    </tr>\n",
       "    <tr>\n",
       "      <th>216</th>\n",
       "      <td>-67.250268</td>\n",
       "      <td>-1.071284</td>\n",
       "      <td>yellow</td>\n",
       "    </tr>\n",
       "    <tr>\n",
       "      <th>217</th>\n",
       "      <td>-64.025051</td>\n",
       "      <td>0.381917</td>\n",
       "      <td>yellow</td>\n",
       "    </tr>\n",
       "  </tbody>\n",
       "</table>\n",
       "<p>218 rows × 3 columns</p>\n",
       "</div>"
      ],
      "text/plain": [
       "             x          y       color\n",
       "0   -60.939023   4.612072  orange_big\n",
       "1   -57.657950   5.865915        blue\n",
       "2   -54.528351   7.486922        blue\n",
       "3   -51.420276   9.949794        blue\n",
       "4   -49.295484  13.150159        blue\n",
       "..         ...        ...         ...\n",
       "213 -72.399930 -10.567747      yellow\n",
       "214 -71.874985  -6.652903      yellow\n",
       "215 -69.982935  -3.448590      yellow\n",
       "216 -67.250268  -1.071284      yellow\n",
       "217 -64.025051   0.381917      yellow\n",
       "\n",
       "[218 rows x 3 columns]"
      ]
     },
     "execution_count": 8,
     "metadata": {},
     "output_type": "execute_result"
    }
   ],
   "source": [
    "import pandas as pd\n",
    "\n",
    "src = pd.read_json(\"track1.json\")\n",
    "src"
   ]
  },
  {
   "cell_type": "code",
   "execution_count": 9,
   "metadata": {},
   "outputs": [],
   "source": [
    "colors = pd.get_dummies(src[\"color\"])"
   ]
  },
  {
   "cell_type": "code",
   "execution_count": 10,
   "metadata": {},
   "outputs": [],
   "source": [
    "src = pd.concat([src, colors], axis=1)"
   ]
  },
  {
   "cell_type": "code",
   "execution_count": 11,
   "metadata": {},
   "outputs": [
    {
     "data": {
      "text/html": [
       "<div>\n",
       "<style scoped>\n",
       "    .dataframe tbody tr th:only-of-type {\n",
       "        vertical-align: middle;\n",
       "    }\n",
       "\n",
       "    .dataframe tbody tr th {\n",
       "        vertical-align: top;\n",
       "    }\n",
       "\n",
       "    .dataframe thead th {\n",
       "        text-align: right;\n",
       "    }\n",
       "</style>\n",
       "<table border=\"1\" class=\"dataframe\">\n",
       "  <thead>\n",
       "    <tr style=\"text-align: right;\">\n",
       "      <th></th>\n",
       "      <th>x</th>\n",
       "      <th>y</th>\n",
       "      <th>color</th>\n",
       "      <th>blue</th>\n",
       "      <th>orange_big</th>\n",
       "      <th>yellow</th>\n",
       "    </tr>\n",
       "  </thead>\n",
       "  <tbody>\n",
       "    <tr>\n",
       "      <th>0</th>\n",
       "      <td>-60.939023</td>\n",
       "      <td>4.612072</td>\n",
       "      <td>orange_big</td>\n",
       "      <td>0</td>\n",
       "      <td>1</td>\n",
       "      <td>0</td>\n",
       "    </tr>\n",
       "    <tr>\n",
       "      <th>1</th>\n",
       "      <td>-57.657950</td>\n",
       "      <td>5.865915</td>\n",
       "      <td>blue</td>\n",
       "      <td>1</td>\n",
       "      <td>0</td>\n",
       "      <td>0</td>\n",
       "    </tr>\n",
       "    <tr>\n",
       "      <th>2</th>\n",
       "      <td>-54.528351</td>\n",
       "      <td>7.486922</td>\n",
       "      <td>blue</td>\n",
       "      <td>1</td>\n",
       "      <td>0</td>\n",
       "      <td>0</td>\n",
       "    </tr>\n",
       "    <tr>\n",
       "      <th>3</th>\n",
       "      <td>-51.420276</td>\n",
       "      <td>9.949794</td>\n",
       "      <td>blue</td>\n",
       "      <td>1</td>\n",
       "      <td>0</td>\n",
       "      <td>0</td>\n",
       "    </tr>\n",
       "    <tr>\n",
       "      <th>4</th>\n",
       "      <td>-49.295484</td>\n",
       "      <td>13.150159</td>\n",
       "      <td>blue</td>\n",
       "      <td>1</td>\n",
       "      <td>0</td>\n",
       "      <td>0</td>\n",
       "    </tr>\n",
       "    <tr>\n",
       "      <th>...</th>\n",
       "      <td>...</td>\n",
       "      <td>...</td>\n",
       "      <td>...</td>\n",
       "      <td>...</td>\n",
       "      <td>...</td>\n",
       "      <td>...</td>\n",
       "    </tr>\n",
       "    <tr>\n",
       "      <th>213</th>\n",
       "      <td>-72.399930</td>\n",
       "      <td>-10.567747</td>\n",
       "      <td>yellow</td>\n",
       "      <td>0</td>\n",
       "      <td>0</td>\n",
       "      <td>1</td>\n",
       "    </tr>\n",
       "    <tr>\n",
       "      <th>214</th>\n",
       "      <td>-71.874985</td>\n",
       "      <td>-6.652903</td>\n",
       "      <td>yellow</td>\n",
       "      <td>0</td>\n",
       "      <td>0</td>\n",
       "      <td>1</td>\n",
       "    </tr>\n",
       "    <tr>\n",
       "      <th>215</th>\n",
       "      <td>-69.982935</td>\n",
       "      <td>-3.448590</td>\n",
       "      <td>yellow</td>\n",
       "      <td>0</td>\n",
       "      <td>0</td>\n",
       "      <td>1</td>\n",
       "    </tr>\n",
       "    <tr>\n",
       "      <th>216</th>\n",
       "      <td>-67.250268</td>\n",
       "      <td>-1.071284</td>\n",
       "      <td>yellow</td>\n",
       "      <td>0</td>\n",
       "      <td>0</td>\n",
       "      <td>1</td>\n",
       "    </tr>\n",
       "    <tr>\n",
       "      <th>217</th>\n",
       "      <td>-64.025051</td>\n",
       "      <td>0.381917</td>\n",
       "      <td>yellow</td>\n",
       "      <td>0</td>\n",
       "      <td>0</td>\n",
       "      <td>1</td>\n",
       "    </tr>\n",
       "  </tbody>\n",
       "</table>\n",
       "<p>218 rows × 6 columns</p>\n",
       "</div>"
      ],
      "text/plain": [
       "             x          y       color  blue  orange_big  yellow\n",
       "0   -60.939023   4.612072  orange_big     0           1       0\n",
       "1   -57.657950   5.865915        blue     1           0       0\n",
       "2   -54.528351   7.486922        blue     1           0       0\n",
       "3   -51.420276   9.949794        blue     1           0       0\n",
       "4   -49.295484  13.150159        blue     1           0       0\n",
       "..         ...        ...         ...   ...         ...     ...\n",
       "213 -72.399930 -10.567747      yellow     0           0       1\n",
       "214 -71.874985  -6.652903      yellow     0           0       1\n",
       "215 -69.982935  -3.448590      yellow     0           0       1\n",
       "216 -67.250268  -1.071284      yellow     0           0       1\n",
       "217 -64.025051   0.381917      yellow     0           0       1\n",
       "\n",
       "[218 rows x 6 columns]"
      ]
     },
     "execution_count": 11,
     "metadata": {},
     "output_type": "execute_result"
    }
   ],
   "source": [
    "src"
   ]
  },
  {
   "cell_type": "code",
   "execution_count": 12,
   "metadata": {},
   "outputs": [],
   "source": [
    "src.drop(\"color\", axis=1, inplace=True)"
   ]
  },
  {
   "cell_type": "code",
   "execution_count": 13,
   "metadata": {},
   "outputs": [
    {
     "data": {
      "text/html": [
       "<div>\n",
       "<style scoped>\n",
       "    .dataframe tbody tr th:only-of-type {\n",
       "        vertical-align: middle;\n",
       "    }\n",
       "\n",
       "    .dataframe tbody tr th {\n",
       "        vertical-align: top;\n",
       "    }\n",
       "\n",
       "    .dataframe thead th {\n",
       "        text-align: right;\n",
       "    }\n",
       "</style>\n",
       "<table border=\"1\" class=\"dataframe\">\n",
       "  <thead>\n",
       "    <tr style=\"text-align: right;\">\n",
       "      <th></th>\n",
       "      <th>x</th>\n",
       "      <th>y</th>\n",
       "      <th>blue</th>\n",
       "      <th>orange_big</th>\n",
       "      <th>yellow</th>\n",
       "    </tr>\n",
       "  </thead>\n",
       "  <tbody>\n",
       "    <tr>\n",
       "      <th>0</th>\n",
       "      <td>-60.939023</td>\n",
       "      <td>4.612072</td>\n",
       "      <td>0</td>\n",
       "      <td>1</td>\n",
       "      <td>0</td>\n",
       "    </tr>\n",
       "    <tr>\n",
       "      <th>1</th>\n",
       "      <td>-57.657950</td>\n",
       "      <td>5.865915</td>\n",
       "      <td>1</td>\n",
       "      <td>0</td>\n",
       "      <td>0</td>\n",
       "    </tr>\n",
       "    <tr>\n",
       "      <th>2</th>\n",
       "      <td>-54.528351</td>\n",
       "      <td>7.486922</td>\n",
       "      <td>1</td>\n",
       "      <td>0</td>\n",
       "      <td>0</td>\n",
       "    </tr>\n",
       "    <tr>\n",
       "      <th>3</th>\n",
       "      <td>-51.420276</td>\n",
       "      <td>9.949794</td>\n",
       "      <td>1</td>\n",
       "      <td>0</td>\n",
       "      <td>0</td>\n",
       "    </tr>\n",
       "    <tr>\n",
       "      <th>4</th>\n",
       "      <td>-49.295484</td>\n",
       "      <td>13.150159</td>\n",
       "      <td>1</td>\n",
       "      <td>0</td>\n",
       "      <td>0</td>\n",
       "    </tr>\n",
       "    <tr>\n",
       "      <th>...</th>\n",
       "      <td>...</td>\n",
       "      <td>...</td>\n",
       "      <td>...</td>\n",
       "      <td>...</td>\n",
       "      <td>...</td>\n",
       "    </tr>\n",
       "    <tr>\n",
       "      <th>213</th>\n",
       "      <td>-72.399930</td>\n",
       "      <td>-10.567747</td>\n",
       "      <td>0</td>\n",
       "      <td>0</td>\n",
       "      <td>1</td>\n",
       "    </tr>\n",
       "    <tr>\n",
       "      <th>214</th>\n",
       "      <td>-71.874985</td>\n",
       "      <td>-6.652903</td>\n",
       "      <td>0</td>\n",
       "      <td>0</td>\n",
       "      <td>1</td>\n",
       "    </tr>\n",
       "    <tr>\n",
       "      <th>215</th>\n",
       "      <td>-69.982935</td>\n",
       "      <td>-3.448590</td>\n",
       "      <td>0</td>\n",
       "      <td>0</td>\n",
       "      <td>1</td>\n",
       "    </tr>\n",
       "    <tr>\n",
       "      <th>216</th>\n",
       "      <td>-67.250268</td>\n",
       "      <td>-1.071284</td>\n",
       "      <td>0</td>\n",
       "      <td>0</td>\n",
       "      <td>1</td>\n",
       "    </tr>\n",
       "    <tr>\n",
       "      <th>217</th>\n",
       "      <td>-64.025051</td>\n",
       "      <td>0.381917</td>\n",
       "      <td>0</td>\n",
       "      <td>0</td>\n",
       "      <td>1</td>\n",
       "    </tr>\n",
       "  </tbody>\n",
       "</table>\n",
       "<p>218 rows × 5 columns</p>\n",
       "</div>"
      ],
      "text/plain": [
       "             x          y  blue  orange_big  yellow\n",
       "0   -60.939023   4.612072     0           1       0\n",
       "1   -57.657950   5.865915     1           0       0\n",
       "2   -54.528351   7.486922     1           0       0\n",
       "3   -51.420276   9.949794     1           0       0\n",
       "4   -49.295484  13.150159     1           0       0\n",
       "..         ...        ...   ...         ...     ...\n",
       "213 -72.399930 -10.567747     0           0       1\n",
       "214 -71.874985  -6.652903     0           0       1\n",
       "215 -69.982935  -3.448590     0           0       1\n",
       "216 -67.250268  -1.071284     0           0       1\n",
       "217 -64.025051   0.381917     0           0       1\n",
       "\n",
       "[218 rows x 5 columns]"
      ]
     },
     "execution_count": 13,
     "metadata": {},
     "output_type": "execute_result"
    }
   ],
   "source": [
    "src"
   ]
  },
  {
   "cell_type": "code",
   "execution_count": 227,
   "metadata": {},
   "outputs": [],
   "source": [
    "class MyPlannerTransformer(nn.Module):\n",
    "    def __init__(self, num_features=6, numOfEncoderLayers = 6, numOfDecoderLayers=6) -> None:\n",
    "        super().__init__()\n",
    "        self.transformer_model = nn.Transformer(\n",
    "            d_model=num_features,\n",
    "            nhead=3,\n",
    "            num_encoder_layers=numOfEncoderLayers,\n",
    "            num_decoder_layers=numOfDecoderLayers,\n",
    "            dim_feedforward=2048,\n",
    "            dropout=0.1,\n",
    "        )\n",
    "        # map tgt to have the same number of features as src\n",
    "        self.tgt = nn.Linear(2, num_features)\n",
    "\n",
    "    def forward(\n",
    "        self,\n",
    "        src: torch.tensor,\n",
    "        tgt: torch.tensor,\n",
    "        src_mask: Optional[torch.tensor]=None,\n",
    "        tgt_mask: Optional[torch.tensor]=None,\n",
    "        memory_mask: Optional[torch.tensor]=None,\n",
    "        src_key_padding_mask: Optional[torch.tensor]=None,\n",
    "        tgt_key_padding_mask: Optional[torch.tensor]=None,\n",
    "        memory_key_padding_mask: Optional[torch.tensor]=None,\n",
    "        max_len: Optional[int]=None,\n",
    "        \n",
    "    )->torch.tensor:\n",
    "        tgt = self.tgt(tgt)\n",
    "        out = self.transformer_model(src, tgt)\n",
    "        return out[:,:2]\n",
    "    \n",
    "    def predict(self, src: torch.tensor, tgt: torch.tensor, max_len: Optional[int]=None)->torch.tensor:\n",
    "        self.eval()\n",
    "        with torch.no_grad():\n",
    "            prediction = self.forward(src, tgt)\n",
    "        return prediction\n",
    "    \n",
    "    "
   ]
  },
  {
   "cell_type": "code",
   "execution_count": 228,
   "metadata": {},
   "outputs": [],
   "source": [
    "batch_size = 10\n",
    "src = torch.rand(batch_size, 6)\n",
    "tgt = torch.rand(batch_size, 2)"
   ]
  },
  {
   "cell_type": "code",
   "execution_count": 229,
   "metadata": {},
   "outputs": [
    {
     "data": {
      "text/plain": [
       "torch.Size([10, 6])"
      ]
     },
     "execution_count": 229,
     "metadata": {},
     "output_type": "execute_result"
    }
   ],
   "source": [
    "src.shape"
   ]
  },
  {
   "cell_type": "code",
   "execution_count": 230,
   "metadata": {},
   "outputs": [
    {
     "data": {
      "text/plain": [
       "torch.Size([10, 2])"
      ]
     },
     "execution_count": 230,
     "metadata": {},
     "output_type": "execute_result"
    }
   ],
   "source": [
    "tgt.shape"
   ]
  },
  {
   "cell_type": "code",
   "execution_count": 231,
   "metadata": {},
   "outputs": [
    {
     "data": {
      "text/plain": [
       "tensor([0.0169, 0.9111, 0.0025, 0.1272, 0.6298, 0.8852])"
      ]
     },
     "execution_count": 231,
     "metadata": {},
     "output_type": "execute_result"
    }
   ],
   "source": [
    "src[0]"
   ]
  },
  {
   "cell_type": "code",
   "execution_count": 232,
   "metadata": {},
   "outputs": [
    {
     "data": {
      "text/plain": [
       "tensor([0.9917, 0.0126])"
      ]
     },
     "execution_count": 232,
     "metadata": {},
     "output_type": "execute_result"
    }
   ],
   "source": [
    "tgt[0]"
   ]
  },
  {
   "cell_type": "code",
   "execution_count": 209,
   "metadata": {},
   "outputs": [
    {
     "name": "stderr",
     "output_type": "stream",
     "text": [
      "c:\\Users\\ahmed\\AppData\\Local\\Programs\\Python\\Python311\\Lib\\site-packages\\torch\\nn\\modules\\transformer.py:282: UserWarning: enable_nested_tensor is True, but self.use_nested_tensor is False because encoder_layer.self_attn.batch_first was not True(use batch_first for better inference performance)\n",
      "  warnings.warn(f\"enable_nested_tensor is True, but self.use_nested_tensor is False because {why_not_sparsity_fast_path}\")\n"
     ]
    },
    {
     "data": {
      "text/plain": [
       "torch.Size([10, 2])"
      ]
     },
     "execution_count": 209,
     "metadata": {},
     "output_type": "execute_result"
    }
   ],
   "source": [
    "model = MyPlannerTransformer()\n",
    "model.forward(src, tgt).shape"
   ]
  },
  {
   "cell_type": "code",
   "execution_count": 233,
   "metadata": {},
   "outputs": [
    {
     "data": {
      "text/plain": [
       "tensor([[0.4863, 0.6740],\n",
       "        [0.4883, 0.7036],\n",
       "        [0.4937, 0.7097],\n",
       "        [0.4837, 0.6759],\n",
       "        [0.5022, 0.7103],\n",
       "        [0.5036, 0.7114],\n",
       "        [0.5009, 0.7100],\n",
       "        [0.5020, 0.7053],\n",
       "        [0.4883, 0.7040],\n",
       "        [0.4959, 0.7045]], grad_fn=<SliceBackward0>)"
      ]
     },
     "execution_count": 233,
     "metadata": {},
     "output_type": "execute_result"
    }
   ],
   "source": [
    "model(src, tgt)"
   ]
  },
  {
   "cell_type": "code",
   "execution_count": 234,
   "metadata": {},
   "outputs": [
    {
     "name": "stdout",
     "output_type": "stream",
     "text": [
      "Epoch [1/1], Batch [10/10], Loss: 0.0990\n"
     ]
    }
   ],
   "source": [
    "def training_loop(epochs):\n",
    "    criterion = nn.MSELoss()\n",
    "    optimizer = torch.optim.Adam(model.parameters(), lr=1e-4)\n",
    "    for epoch in range(epochs):\n",
    "        \n",
    "        model.train()\n",
    "        \n",
    "        for batch in range(10):\n",
    "\n",
    "                # Zero the gradients\n",
    "                optimizer.zero_grad()\n",
    "\n",
    "                # Forward pass\n",
    "                output = model(src, tgt)\n",
    "\n",
    "                # Compute the loss\n",
    "                loss = criterion(output, tgt)\n",
    "\n",
    "                # Backward pass and optimization\n",
    "                loss.backward()\n",
    "                optimizer.step()\n",
    "\n",
    "                if (batch + 1) % 10 == 0:\n",
    "                    print(f'Epoch [{epoch + 1}/{epochs}], Batch [{batch + 1}/{10}], Loss: {loss.item():.4f}')\n",
    "training_loop(1)\n"
   ]
  },
  {
   "cell_type": "code",
   "execution_count": 235,
   "metadata": {},
   "outputs": [],
   "source": [
    "# save model\n",
    "torch.save(model.state_dict(), 'model.pth')"
   ]
  },
  {
   "cell_type": "code",
   "execution_count": 236,
   "metadata": {},
   "outputs": [
    {
     "data": {
      "text/plain": [
       "<All keys matched successfully>"
      ]
     },
     "execution_count": 236,
     "metadata": {},
     "output_type": "execute_result"
    }
   ],
   "source": [
    "# load model\n",
    "model.load_state_dict(torch.load('model.pth'))"
   ]
  },
  {
   "cell_type": "code",
   "execution_count": 237,
   "metadata": {},
   "outputs": [
    {
     "data": {
      "text/plain": [
       "tensor([[0.9917, 0.0126],\n",
       "        [0.2232, 0.5795],\n",
       "        [0.1295, 0.8194],\n",
       "        [0.8521, 0.0363],\n",
       "        [0.7630, 0.8032],\n",
       "        [0.7915, 0.8569],\n",
       "        [0.6897, 0.7898],\n",
       "        [0.9975, 0.6156],\n",
       "        [0.1996, 0.5916],\n",
       "        [0.6765, 0.5879]])"
      ]
     },
     "execution_count": 237,
     "metadata": {},
     "output_type": "execute_result"
    }
   ],
   "source": [
    "tgt"
   ]
  },
  {
   "cell_type": "code",
   "execution_count": 238,
   "metadata": {},
   "outputs": [],
   "source": [
    "# predict\n",
    "yhat = model.predict(src, tgt)"
   ]
  },
  {
   "cell_type": "code",
   "execution_count": 239,
   "metadata": {},
   "outputs": [
    {
     "data": {
      "text/plain": [
       "tensor([[0.6641, 0.5229],\n",
       "        [0.6551, 0.5556],\n",
       "        [0.6551, 0.5627],\n",
       "        [0.6619, 0.5256],\n",
       "        [0.6637, 0.5580],\n",
       "        [0.6640, 0.5592],\n",
       "        [0.6628, 0.5582],\n",
       "        [0.6670, 0.5504],\n",
       "        [0.6548, 0.5562],\n",
       "        [0.6625, 0.5521]])"
      ]
     },
     "execution_count": 239,
     "metadata": {},
     "output_type": "execute_result"
    }
   ],
   "source": [
    "yhat"
   ]
  },
  {
   "cell_type": "code",
   "execution_count": 240,
   "metadata": {},
   "outputs": [
    {
     "name": "stdout",
     "output_type": "stream",
     "text": [
      "tensor(0.0863)\n"
     ]
    }
   ],
   "source": [
    "# calculate MSE between yhat and tgt\n",
    "criterion = nn.MSELoss()\n",
    "loss = criterion(yhat, tgt)\n",
    "print(loss)"
   ]
  }
 ],
 "metadata": {
  "kernelspec": {
   "display_name": "Python 3",
   "language": "python",
   "name": "python3"
  },
  "language_info": {
   "codemirror_mode": {
    "name": "ipython",
    "version": 3
   },
   "file_extension": ".py",
   "mimetype": "text/x-python",
   "name": "python",
   "nbconvert_exporter": "python",
   "pygments_lexer": "ipython3",
   "version": "3.11.1"
  }
 },
 "nbformat": 4,
 "nbformat_minor": 2
}
